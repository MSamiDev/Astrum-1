{
  "cells": [
    {
      "cell_type": "code",
      "execution_count": null,
      "metadata": {
        "id": "mbe4BjHZ8VZE"
      },
      "outputs": [],
      "source": [
        "import numpy as np \n",
        "import pandas as pd\n",
        "from sklearn.model_selection import train_test_split\n",
        "import matplotlib.pyplot as plt\n",
        "import seaborn as sns\n",
        "from sklearn.metrics import accuracy_score, confusion_matrix"
      ]
    },
    {
      "cell_type": "code",
      "execution_count": null,
      "metadata": {
        "colab": {
          "base_uri": "https://localhost:8080/"
        },
        "id": "a7L-05En8lfu",
        "outputId": "95fe7261-567e-422c-de27-b1716573126c"
      },
      "outputs": [
        {
          "name": "stdout",
          "output_type": "stream",
          "text": [
            "Mounted at /content/drive\n",
            "/content/drive\n"
          ]
        }
      ],
      "source": [
        "from google.colab import drive\n",
        "drive.mount('/content/drive')\n",
        "%cd /content/drive"
      ]
    },
    {
      "cell_type": "code",
      "execution_count": null,
      "metadata": {
        "colab": {
          "base_uri": "https://localhost:8080/",
          "height": 206
        },
        "id": "7iGOhfdX82vG",
        "outputId": "c6938b80-0d61-4abf-a3a4-8d5bbb9a0467"
      },
      "outputs": [
        {
          "data": {
            "text/html": [
              "\n",
              "  <div id=\"df-da774a9d-d4bb-4418-b180-1429f23815ed\">\n",
              "    <div class=\"colab-df-container\">\n",
              "      <div>\n",
              "<style scoped>\n",
              "    .dataframe tbody tr th:only-of-type {\n",
              "        vertical-align: middle;\n",
              "    }\n",
              "\n",
              "    .dataframe tbody tr th {\n",
              "        vertical-align: top;\n",
              "    }\n",
              "\n",
              "    .dataframe thead th {\n",
              "        text-align: right;\n",
              "    }\n",
              "</style>\n",
              "<table border=\"1\" class=\"dataframe\">\n",
              "  <thead>\n",
              "    <tr style=\"text-align: right;\">\n",
              "      <th></th>\n",
              "      <th>id</th>\n",
              "      <th>keyword</th>\n",
              "      <th>location</th>\n",
              "      <th>text</th>\n",
              "      <th>target</th>\n",
              "    </tr>\n",
              "  </thead>\n",
              "  <tbody>\n",
              "    <tr>\n",
              "      <th>0</th>\n",
              "      <td>0</td>\n",
              "      <td>ablaze</td>\n",
              "      <td>NaN</td>\n",
              "      <td>Communal violence in Bhainsa, Telangana. \"Ston...</td>\n",
              "      <td>1</td>\n",
              "    </tr>\n",
              "    <tr>\n",
              "      <th>1</th>\n",
              "      <td>1</td>\n",
              "      <td>ablaze</td>\n",
              "      <td>NaN</td>\n",
              "      <td>Telangana: Section 144 has been imposed in Bha...</td>\n",
              "      <td>1</td>\n",
              "    </tr>\n",
              "    <tr>\n",
              "      <th>2</th>\n",
              "      <td>2</td>\n",
              "      <td>ablaze</td>\n",
              "      <td>New York City</td>\n",
              "      <td>Arsonist sets cars ablaze at dealership https:...</td>\n",
              "      <td>1</td>\n",
              "    </tr>\n",
              "    <tr>\n",
              "      <th>3</th>\n",
              "      <td>3</td>\n",
              "      <td>ablaze</td>\n",
              "      <td>Morgantown, WV</td>\n",
              "      <td>Arsonist sets cars ablaze at dealership https:...</td>\n",
              "      <td>1</td>\n",
              "    </tr>\n",
              "    <tr>\n",
              "      <th>4</th>\n",
              "      <td>4</td>\n",
              "      <td>ablaze</td>\n",
              "      <td>NaN</td>\n",
              "      <td>\"Lord Jesus, your love brings freedom and pard...</td>\n",
              "      <td>0</td>\n",
              "    </tr>\n",
              "  </tbody>\n",
              "</table>\n",
              "</div>\n",
              "      <button class=\"colab-df-convert\" onclick=\"convertToInteractive('df-da774a9d-d4bb-4418-b180-1429f23815ed')\"\n",
              "              title=\"Convert this dataframe to an interactive table.\"\n",
              "              style=\"display:none;\">\n",
              "        \n",
              "  <svg xmlns=\"http://www.w3.org/2000/svg\" height=\"24px\"viewBox=\"0 0 24 24\"\n",
              "       width=\"24px\">\n",
              "    <path d=\"M0 0h24v24H0V0z\" fill=\"none\"/>\n",
              "    <path d=\"M18.56 5.44l.94 2.06.94-2.06 2.06-.94-2.06-.94-.94-2.06-.94 2.06-2.06.94zm-11 1L8.5 8.5l.94-2.06 2.06-.94-2.06-.94L8.5 2.5l-.94 2.06-2.06.94zm10 10l.94 2.06.94-2.06 2.06-.94-2.06-.94-.94-2.06-.94 2.06-2.06.94z\"/><path d=\"M17.41 7.96l-1.37-1.37c-.4-.4-.92-.59-1.43-.59-.52 0-1.04.2-1.43.59L10.3 9.45l-7.72 7.72c-.78.78-.78 2.05 0 2.83L4 21.41c.39.39.9.59 1.41.59.51 0 1.02-.2 1.41-.59l7.78-7.78 2.81-2.81c.8-.78.8-2.07 0-2.86zM5.41 20L4 18.59l7.72-7.72 1.47 1.35L5.41 20z\"/>\n",
              "  </svg>\n",
              "      </button>\n",
              "      \n",
              "  <style>\n",
              "    .colab-df-container {\n",
              "      display:flex;\n",
              "      flex-wrap:wrap;\n",
              "      gap: 12px;\n",
              "    }\n",
              "\n",
              "    .colab-df-convert {\n",
              "      background-color: #E8F0FE;\n",
              "      border: none;\n",
              "      border-radius: 50%;\n",
              "      cursor: pointer;\n",
              "      display: none;\n",
              "      fill: #1967D2;\n",
              "      height: 32px;\n",
              "      padding: 0 0 0 0;\n",
              "      width: 32px;\n",
              "    }\n",
              "\n",
              "    .colab-df-convert:hover {\n",
              "      background-color: #E2EBFA;\n",
              "      box-shadow: 0px 1px 2px rgba(60, 64, 67, 0.3), 0px 1px 3px 1px rgba(60, 64, 67, 0.15);\n",
              "      fill: #174EA6;\n",
              "    }\n",
              "\n",
              "    [theme=dark] .colab-df-convert {\n",
              "      background-color: #3B4455;\n",
              "      fill: #D2E3FC;\n",
              "    }\n",
              "\n",
              "    [theme=dark] .colab-df-convert:hover {\n",
              "      background-color: #434B5C;\n",
              "      box-shadow: 0px 1px 3px 1px rgba(0, 0, 0, 0.15);\n",
              "      filter: drop-shadow(0px 1px 2px rgba(0, 0, 0, 0.3));\n",
              "      fill: #FFFFFF;\n",
              "    }\n",
              "  </style>\n",
              "\n",
              "      <script>\n",
              "        const buttonEl =\n",
              "          document.querySelector('#df-da774a9d-d4bb-4418-b180-1429f23815ed button.colab-df-convert');\n",
              "        buttonEl.style.display =\n",
              "          google.colab.kernel.accessAllowed ? 'block' : 'none';\n",
              "\n",
              "        async function convertToInteractive(key) {\n",
              "          const element = document.querySelector('#df-da774a9d-d4bb-4418-b180-1429f23815ed');\n",
              "          const dataTable =\n",
              "            await google.colab.kernel.invokeFunction('convertToInteractive',\n",
              "                                                     [key], {});\n",
              "          if (!dataTable) return;\n",
              "\n",
              "          const docLinkHtml = 'Like what you see? Visit the ' +\n",
              "            '<a target=\"_blank\" href=https://colab.research.google.com/notebooks/data_table.ipynb>data table notebook</a>'\n",
              "            + ' to learn more about interactive tables.';\n",
              "          element.innerHTML = '';\n",
              "          dataTable['output_type'] = 'display_data';\n",
              "          await google.colab.output.renderOutput(dataTable, element);\n",
              "          const docLink = document.createElement('div');\n",
              "          docLink.innerHTML = docLinkHtml;\n",
              "          element.appendChild(docLink);\n",
              "        }\n",
              "      </script>\n",
              "    </div>\n",
              "  </div>\n",
              "  "
            ],
            "text/plain": [
              "   id keyword        location  \\\n",
              "0   0  ablaze             NaN   \n",
              "1   1  ablaze             NaN   \n",
              "2   2  ablaze   New York City   \n",
              "3   3  ablaze  Morgantown, WV   \n",
              "4   4  ablaze             NaN   \n",
              "\n",
              "                                                text  target  \n",
              "0  Communal violence in Bhainsa, Telangana. \"Ston...       1  \n",
              "1  Telangana: Section 144 has been imposed in Bha...       1  \n",
              "2  Arsonist sets cars ablaze at dealership https:...       1  \n",
              "3  Arsonist sets cars ablaze at dealership https:...       1  \n",
              "4  \"Lord Jesus, your love brings freedom and pard...       0  "
            ]
          },
          "execution_count": 17,
          "metadata": {},
          "output_type": "execute_result"
        }
      ],
      "source": [
        "df = pd.read_csv('MyDrive/tweets.csv')\n",
        "df.head()"
      ]
    },
    {
      "cell_type": "code",
      "execution_count": null,
      "metadata": {
        "colab": {
          "base_uri": "https://localhost:8080/"
        },
        "id": "v8F9YIzr-9r4",
        "outputId": "f7a1e078-ae79-4570-b974-f23d54eebdf7"
      },
      "outputs": [
        {
          "data": {
            "text/plain": [
              "(11370, 5)"
            ]
          },
          "execution_count": 18,
          "metadata": {},
          "output_type": "execute_result"
        }
      ],
      "source": [
        "df.shape"
      ]
    },
    {
      "cell_type": "code",
      "execution_count": null,
      "metadata": {
        "id": "nsTRC0ok_CoF"
      },
      "outputs": [],
      "source": [
        "df.info()\n"
      ]
    },
    {
      "cell_type": "code",
      "execution_count": null,
      "metadata": {
        "colab": {
          "base_uri": "https://localhost:8080/",
          "height": 206
        },
        "id": "-aTN_tOR_0AB",
        "outputId": "78a0f591-2984-42d6-e442-b66cfb2c4182"
      },
      "outputs": [
        {
          "data": {
            "text/html": [
              "\n",
              "  <div id=\"df-06723763-332f-4569-bd74-d9deca4bf43e\">\n",
              "    <div class=\"colab-df-container\">\n",
              "      <div>\n",
              "<style scoped>\n",
              "    .dataframe tbody tr th:only-of-type {\n",
              "        vertical-align: middle;\n",
              "    }\n",
              "\n",
              "    .dataframe tbody tr th {\n",
              "        vertical-align: top;\n",
              "    }\n",
              "\n",
              "    .dataframe thead th {\n",
              "        text-align: right;\n",
              "    }\n",
              "</style>\n",
              "<table border=\"1\" class=\"dataframe\">\n",
              "  <thead>\n",
              "    <tr style=\"text-align: right;\">\n",
              "      <th></th>\n",
              "      <th>text</th>\n",
              "      <th>target</th>\n",
              "    </tr>\n",
              "  </thead>\n",
              "  <tbody>\n",
              "    <tr>\n",
              "      <th>0</th>\n",
              "      <td>Communal violence in Bhainsa, Telangana. \"Ston...</td>\n",
              "      <td>1</td>\n",
              "    </tr>\n",
              "    <tr>\n",
              "      <th>1</th>\n",
              "      <td>Telangana: Section 144 has been imposed in Bha...</td>\n",
              "      <td>1</td>\n",
              "    </tr>\n",
              "    <tr>\n",
              "      <th>2</th>\n",
              "      <td>Arsonist sets cars ablaze at dealership https:...</td>\n",
              "      <td>1</td>\n",
              "    </tr>\n",
              "    <tr>\n",
              "      <th>3</th>\n",
              "      <td>Arsonist sets cars ablaze at dealership https:...</td>\n",
              "      <td>1</td>\n",
              "    </tr>\n",
              "    <tr>\n",
              "      <th>4</th>\n",
              "      <td>\"Lord Jesus, your love brings freedom and pard...</td>\n",
              "      <td>0</td>\n",
              "    </tr>\n",
              "  </tbody>\n",
              "</table>\n",
              "</div>\n",
              "      <button class=\"colab-df-convert\" onclick=\"convertToInteractive('df-06723763-332f-4569-bd74-d9deca4bf43e')\"\n",
              "              title=\"Convert this dataframe to an interactive table.\"\n",
              "              style=\"display:none;\">\n",
              "        \n",
              "  <svg xmlns=\"http://www.w3.org/2000/svg\" height=\"24px\"viewBox=\"0 0 24 24\"\n",
              "       width=\"24px\">\n",
              "    <path d=\"M0 0h24v24H0V0z\" fill=\"none\"/>\n",
              "    <path d=\"M18.56 5.44l.94 2.06.94-2.06 2.06-.94-2.06-.94-.94-2.06-.94 2.06-2.06.94zm-11 1L8.5 8.5l.94-2.06 2.06-.94-2.06-.94L8.5 2.5l-.94 2.06-2.06.94zm10 10l.94 2.06.94-2.06 2.06-.94-2.06-.94-.94-2.06-.94 2.06-2.06.94z\"/><path d=\"M17.41 7.96l-1.37-1.37c-.4-.4-.92-.59-1.43-.59-.52 0-1.04.2-1.43.59L10.3 9.45l-7.72 7.72c-.78.78-.78 2.05 0 2.83L4 21.41c.39.39.9.59 1.41.59.51 0 1.02-.2 1.41-.59l7.78-7.78 2.81-2.81c.8-.78.8-2.07 0-2.86zM5.41 20L4 18.59l7.72-7.72 1.47 1.35L5.41 20z\"/>\n",
              "  </svg>\n",
              "      </button>\n",
              "      \n",
              "  <style>\n",
              "    .colab-df-container {\n",
              "      display:flex;\n",
              "      flex-wrap:wrap;\n",
              "      gap: 12px;\n",
              "    }\n",
              "\n",
              "    .colab-df-convert {\n",
              "      background-color: #E8F0FE;\n",
              "      border: none;\n",
              "      border-radius: 50%;\n",
              "      cursor: pointer;\n",
              "      display: none;\n",
              "      fill: #1967D2;\n",
              "      height: 32px;\n",
              "      padding: 0 0 0 0;\n",
              "      width: 32px;\n",
              "    }\n",
              "\n",
              "    .colab-df-convert:hover {\n",
              "      background-color: #E2EBFA;\n",
              "      box-shadow: 0px 1px 2px rgba(60, 64, 67, 0.3), 0px 1px 3px 1px rgba(60, 64, 67, 0.15);\n",
              "      fill: #174EA6;\n",
              "    }\n",
              "\n",
              "    [theme=dark] .colab-df-convert {\n",
              "      background-color: #3B4455;\n",
              "      fill: #D2E3FC;\n",
              "    }\n",
              "\n",
              "    [theme=dark] .colab-df-convert:hover {\n",
              "      background-color: #434B5C;\n",
              "      box-shadow: 0px 1px 3px 1px rgba(0, 0, 0, 0.15);\n",
              "      filter: drop-shadow(0px 1px 2px rgba(0, 0, 0, 0.3));\n",
              "      fill: #FFFFFF;\n",
              "    }\n",
              "  </style>\n",
              "\n",
              "      <script>\n",
              "        const buttonEl =\n",
              "          document.querySelector('#df-06723763-332f-4569-bd74-d9deca4bf43e button.colab-df-convert');\n",
              "        buttonEl.style.display =\n",
              "          google.colab.kernel.accessAllowed ? 'block' : 'none';\n",
              "\n",
              "        async function convertToInteractive(key) {\n",
              "          const element = document.querySelector('#df-06723763-332f-4569-bd74-d9deca4bf43e');\n",
              "          const dataTable =\n",
              "            await google.colab.kernel.invokeFunction('convertToInteractive',\n",
              "                                                     [key], {});\n",
              "          if (!dataTable) return;\n",
              "\n",
              "          const docLinkHtml = 'Like what you see? Visit the ' +\n",
              "            '<a target=\"_blank\" href=https://colab.research.google.com/notebooks/data_table.ipynb>data table notebook</a>'\n",
              "            + ' to learn more about interactive tables.';\n",
              "          element.innerHTML = '';\n",
              "          dataTable['output_type'] = 'display_data';\n",
              "          await google.colab.output.renderOutput(dataTable, element);\n",
              "          const docLink = document.createElement('div');\n",
              "          docLink.innerHTML = docLinkHtml;\n",
              "          element.appendChild(docLink);\n",
              "        }\n",
              "      </script>\n",
              "    </div>\n",
              "  </div>\n",
              "  "
            ],
            "text/plain": [
              "                                                text  target\n",
              "0  Communal violence in Bhainsa, Telangana. \"Ston...       1\n",
              "1  Telangana: Section 144 has been imposed in Bha...       1\n",
              "2  Arsonist sets cars ablaze at dealership https:...       1\n",
              "3  Arsonist sets cars ablaze at dealership https:...       1\n",
              "4  \"Lord Jesus, your love brings freedom and pard...       0"
            ]
          },
          "execution_count": 19,
          "metadata": {},
          "output_type": "execute_result"
        }
      ],
      "source": [
        "df = df.drop(['id','keyword','location'],axis=1)\n",
        "df.head()"
      ]
    },
    {
      "cell_type": "code",
      "execution_count": null,
      "metadata": {
        "colab": {
          "base_uri": "https://localhost:8080/"
        },
        "id": "cTi8YiLVAW1K",
        "outputId": "57da8ba5-c84e-4c61-ce34-a2bdb1b6971e"
      },
      "outputs": [
        {
          "data": {
            "text/plain": [
              "0    9256\n",
              "1    2114\n",
              "Name: target, dtype: int64"
            ]
          },
          "execution_count": 7,
          "metadata": {},
          "output_type": "execute_result"
        }
      ],
      "source": [
        "df['target'].value_counts()"
      ]
    },
    {
      "cell_type": "code",
      "execution_count": null,
      "metadata": {
        "id": "snYEsGPFAb1V"
      },
      "outputs": [],
      "source": [
        "#@title Dealing with imbalanced dataset  \n",
        "# There are 9256 entries for label ‘0’ and only 2114 entries for label ‘1’.\n",
        "# at random, 7142 entries from label 0 will be dropped so that both classes are uniform\n",
        "\n",
        "df_0_class = df[df['target']==0]\n",
        "df_1_class = df[df['target']==1]\n",
        "df_0_class_undersampled = df_0_class.sample(df_1_class.shape[0])\n",
        "df = pd.concat([df_0_class_undersampled, df_1_class], axis=0)"
      ]
    },
    {
      "cell_type": "code",
      "execution_count": null,
      "metadata": {
        "colab": {
          "base_uri": "https://localhost:8080/",
          "height": 206
        },
        "id": "-63XIVWUBIPC",
        "outputId": "a88fddd6-ac40-4d91-a578-ad12dc3ce42a"
      },
      "outputs": [
        {
          "data": {
            "text/html": [
              "\n",
              "  <div id=\"df-ef27af89-f8bc-4d9b-8208-4d66a8de4267\">\n",
              "    <div class=\"colab-df-container\">\n",
              "      <div>\n",
              "<style scoped>\n",
              "    .dataframe tbody tr th:only-of-type {\n",
              "        vertical-align: middle;\n",
              "    }\n",
              "\n",
              "    .dataframe tbody tr th {\n",
              "        vertical-align: top;\n",
              "    }\n",
              "\n",
              "    .dataframe thead th {\n",
              "        text-align: right;\n",
              "    }\n",
              "</style>\n",
              "<table border=\"1\" class=\"dataframe\">\n",
              "  <thead>\n",
              "    <tr style=\"text-align: right;\">\n",
              "      <th></th>\n",
              "      <th>text</th>\n",
              "      <th>target</th>\n",
              "    </tr>\n",
              "  </thead>\n",
              "  <tbody>\n",
              "    <tr>\n",
              "      <th>7384</th>\n",
              "      <td>Grandson of the Terrorist Mastermind of the 19...</td>\n",
              "      <td>0</td>\n",
              "    </tr>\n",
              "    <tr>\n",
              "      <th>11229</th>\n",
              "      <td>“One of the penalties of an ecological educati...</td>\n",
              "      <td>0</td>\n",
              "    </tr>\n",
              "    <tr>\n",
              "      <th>1417</th>\n",
              "      <td>Some new BODY BAGS + ONLY DEATH grips https://...</td>\n",
              "      <td>0</td>\n",
              "    </tr>\n",
              "    <tr>\n",
              "      <th>2328</th>\n",
              "      <td>2,400 jobs are at stake should the deal fall t...</td>\n",
              "      <td>0</td>\n",
              "    </tr>\n",
              "    <tr>\n",
              "      <th>5041</th>\n",
              "      <td>retweet please. May this effort give the way t...</td>\n",
              "      <td>0</td>\n",
              "    </tr>\n",
              "  </tbody>\n",
              "</table>\n",
              "</div>\n",
              "      <button class=\"colab-df-convert\" onclick=\"convertToInteractive('df-ef27af89-f8bc-4d9b-8208-4d66a8de4267')\"\n",
              "              title=\"Convert this dataframe to an interactive table.\"\n",
              "              style=\"display:none;\">\n",
              "        \n",
              "  <svg xmlns=\"http://www.w3.org/2000/svg\" height=\"24px\"viewBox=\"0 0 24 24\"\n",
              "       width=\"24px\">\n",
              "    <path d=\"M0 0h24v24H0V0z\" fill=\"none\"/>\n",
              "    <path d=\"M18.56 5.44l.94 2.06.94-2.06 2.06-.94-2.06-.94-.94-2.06-.94 2.06-2.06.94zm-11 1L8.5 8.5l.94-2.06 2.06-.94-2.06-.94L8.5 2.5l-.94 2.06-2.06.94zm10 10l.94 2.06.94-2.06 2.06-.94-2.06-.94-.94-2.06-.94 2.06-2.06.94z\"/><path d=\"M17.41 7.96l-1.37-1.37c-.4-.4-.92-.59-1.43-.59-.52 0-1.04.2-1.43.59L10.3 9.45l-7.72 7.72c-.78.78-.78 2.05 0 2.83L4 21.41c.39.39.9.59 1.41.59.51 0 1.02-.2 1.41-.59l7.78-7.78 2.81-2.81c.8-.78.8-2.07 0-2.86zM5.41 20L4 18.59l7.72-7.72 1.47 1.35L5.41 20z\"/>\n",
              "  </svg>\n",
              "      </button>\n",
              "      \n",
              "  <style>\n",
              "    .colab-df-container {\n",
              "      display:flex;\n",
              "      flex-wrap:wrap;\n",
              "      gap: 12px;\n",
              "    }\n",
              "\n",
              "    .colab-df-convert {\n",
              "      background-color: #E8F0FE;\n",
              "      border: none;\n",
              "      border-radius: 50%;\n",
              "      cursor: pointer;\n",
              "      display: none;\n",
              "      fill: #1967D2;\n",
              "      height: 32px;\n",
              "      padding: 0 0 0 0;\n",
              "      width: 32px;\n",
              "    }\n",
              "\n",
              "    .colab-df-convert:hover {\n",
              "      background-color: #E2EBFA;\n",
              "      box-shadow: 0px 1px 2px rgba(60, 64, 67, 0.3), 0px 1px 3px 1px rgba(60, 64, 67, 0.15);\n",
              "      fill: #174EA6;\n",
              "    }\n",
              "\n",
              "    [theme=dark] .colab-df-convert {\n",
              "      background-color: #3B4455;\n",
              "      fill: #D2E3FC;\n",
              "    }\n",
              "\n",
              "    [theme=dark] .colab-df-convert:hover {\n",
              "      background-color: #434B5C;\n",
              "      box-shadow: 0px 1px 3px 1px rgba(0, 0, 0, 0.15);\n",
              "      filter: drop-shadow(0px 1px 2px rgba(0, 0, 0, 0.3));\n",
              "      fill: #FFFFFF;\n",
              "    }\n",
              "  </style>\n",
              "\n",
              "      <script>\n",
              "        const buttonEl =\n",
              "          document.querySelector('#df-ef27af89-f8bc-4d9b-8208-4d66a8de4267 button.colab-df-convert');\n",
              "        buttonEl.style.display =\n",
              "          google.colab.kernel.accessAllowed ? 'block' : 'none';\n",
              "\n",
              "        async function convertToInteractive(key) {\n",
              "          const element = document.querySelector('#df-ef27af89-f8bc-4d9b-8208-4d66a8de4267');\n",
              "          const dataTable =\n",
              "            await google.colab.kernel.invokeFunction('convertToInteractive',\n",
              "                                                     [key], {});\n",
              "          if (!dataTable) return;\n",
              "\n",
              "          const docLinkHtml = 'Like what you see? Visit the ' +\n",
              "            '<a target=\"_blank\" href=https://colab.research.google.com/notebooks/data_table.ipynb>data table notebook</a>'\n",
              "            + ' to learn more about interactive tables.';\n",
              "          element.innerHTML = '';\n",
              "          dataTable['output_type'] = 'display_data';\n",
              "          await google.colab.output.renderOutput(dataTable, element);\n",
              "          const docLink = document.createElement('div');\n",
              "          docLink.innerHTML = docLinkHtml;\n",
              "          element.appendChild(docLink);\n",
              "        }\n",
              "      </script>\n",
              "    </div>\n",
              "  </div>\n",
              "  "
            ],
            "text/plain": [
              "                                                    text  target\n",
              "7384   Grandson of the Terrorist Mastermind of the 19...       0\n",
              "11229  “One of the penalties of an ecological educati...       0\n",
              "1417   Some new BODY BAGS + ONLY DEATH grips https://...       0\n",
              "2328   2,400 jobs are at stake should the deal fall t...       0\n",
              "5041   retweet please. May this effort give the way t...       0"
            ]
          },
          "execution_count": 21,
          "metadata": {},
          "output_type": "execute_result"
        }
      ],
      "source": [
        "df.head()"
      ]
    },
    {
      "cell_type": "code",
      "execution_count": null,
      "metadata": {
        "colab": {
          "base_uri": "https://localhost:8080/"
        },
        "id": "SLu96tNYBq9t",
        "outputId": "153752ca-9767-4f16-ab98-af813b8c2255"
      },
      "outputs": [
        {
          "data": {
            "text/plain": [
              "0    2114\n",
              "1    2114\n",
              "Name: target, dtype: int64"
            ]
          },
          "execution_count": 22,
          "metadata": {},
          "output_type": "execute_result"
        }
      ],
      "source": [
        "df['target'].value_counts()"
      ]
    },
    {
      "cell_type": "code",
      "execution_count": null,
      "metadata": {
        "id": "nw8_-QLqBux5"
      },
      "outputs": [],
      "source": [
        "from sklearn.model_selection import train_test_split\n",
        "X_train, X_test, y_train, y_test = train_test_split(df['text'],df['target'], stratify=df['target'])"
      ]
    },
    {
      "cell_type": "code",
      "execution_count": null,
      "metadata": {
        "id": "NJCzgMmkCJSm"
      },
      "outputs": [],
      "source": [
        "!pip install tensorflow-text"
      ]
    },
    {
      "cell_type": "code",
      "execution_count": null,
      "metadata": {
        "id": "dXU6vxanB4aC"
      },
      "outputs": [],
      "source": [
        "import tensorflow as tf\n",
        "import tensorflow_hub as hub\n",
        "import tensorflow_text as text"
      ]
    },
    {
      "cell_type": "code",
      "execution_count": null,
      "metadata": {
        "colab": {
          "base_uri": "https://localhost:8080/"
        },
        "id": "3azK7xnjB_HR",
        "outputId": "3cfeccf1-aa23-4383-9636-ce6051ec78ce"
      },
      "outputs": [
        {
          "name": "stderr",
          "output_type": "stream",
          "text": [
            "WARNING:tensorflow:Please fix your imports. Module tensorflow.python.training.tracking.data_structures has been moved to tensorflow.python.trackable.data_structures. The old module will be deleted in version 2.11.\n"
          ]
        }
      ],
      "source": [
        "preprocess = hub.KerasLayer(\"https://tfhub.dev/tensorflow/bert_en_uncased_preprocess/3\")\n",
        "encoder = hub.KerasLayer(\"https://tfhub.dev/tensorflow/bert_en_uncased_L-12_H-768_A-12/4\")"
      ]
    },
    {
      "cell_type": "code",
      "execution_count": null,
      "metadata": {
        "colab": {
          "base_uri": "https://localhost:8080/"
        },
        "id": "xxo0KflmC5yE",
        "outputId": "f6007ffe-0d7a-4a1d-8e16-3722ea2e2d8d"
      },
      "outputs": [
        {
          "name": "stderr",
          "output_type": "stream",
          "text": [
            "WARNING:tensorflow:From /usr/local/lib/python3.8/dist-packages/tensorflow/python/autograph/pyct/static_analysis/liveness.py:83: Analyzer.lamba_check (from tensorflow.python.autograph.pyct.static_analysis.liveness) is deprecated and will be removed after 2023-09-23.\n",
            "Instructions for updating:\n",
            "Lambda fuctions will be no more assumed to be used in the statement where they are used, or at least in the same block. https://github.com/tensorflow/tensorflow/issues/56089\n"
          ]
        }
      ],
      "source": [
        "text_input = tf.keras.layers.Input(shape=(), dtype=tf.string, name='text-layer')\n",
        "preprocessed_text = preprocess(text_input)\n",
        "outputs = encoder(preprocessed_text)\n",
        "d_layer = tf.keras.layers.Dropout(0.1, name=\"dropout-layer\")(outputs['pooled_output'])\n",
        "d_layer = tf.keras.layers.Dense(1, activation='sigmoid', name=\"output\")(d_layer)\n",
        "model = tf.keras.Model(inputs=[text_input], outputs = [d_layer])"
      ]
    },
    {
      "cell_type": "code",
      "execution_count": null,
      "metadata": {
        "colab": {
          "base_uri": "https://localhost:8080/"
        },
        "id": "DweykuL1DcWp",
        "outputId": "38e6c817-3b00-4805-8c3b-221c6084b08e"
      },
      "outputs": [
        {
          "name": "stdout",
          "output_type": "stream",
          "text": [
            "Model: \"model\"\n",
            "__________________________________________________________________________________________________\n",
            " Layer (type)                   Output Shape         Param #     Connected to                     \n",
            "==================================================================================================\n",
            " text-layer (InputLayer)        [(None,)]            0           []                               \n",
            "                                                                                                  \n",
            " keras_layer (KerasLayer)       {'input_type_ids':   0           ['text-layer[0][0]']             \n",
            "                                (None, 128),                                                      \n",
            "                                 'input_mask': (Non                                               \n",
            "                                e, 128),                                                          \n",
            "                                 'input_word_ids':                                                \n",
            "                                (None, 128)}                                                      \n",
            "                                                                                                  \n",
            " keras_layer_1 (KerasLayer)     {'default': (None,   109482241   ['keras_layer[0][0]',            \n",
            "                                768),                             'keras_layer[0][1]',            \n",
            "                                 'sequence_output':               'keras_layer[0][2]']            \n",
            "                                 (None, 128, 768),                                                \n",
            "                                 'pooled_output': (                                               \n",
            "                                None, 768),                                                       \n",
            "                                 'encoder_outputs':                                               \n",
            "                                 [(None, 128, 768),                                               \n",
            "                                 (None, 128, 768),                                                \n",
            "                                 (None, 128, 768),                                                \n",
            "                                 (None, 128, 768),                                                \n",
            "                                 (None, 128, 768),                                                \n",
            "                                 (None, 128, 768),                                                \n",
            "                                 (None, 128, 768),                                                \n",
            "                                 (None, 128, 768),                                                \n",
            "                                 (None, 128, 768),                                                \n",
            "                                 (None, 128, 768),                                                \n",
            "                                 (None, 128, 768),                                                \n",
            "                                 (None, 128, 768)]}                                               \n",
            "                                                                                                  \n",
            " dropout-layer (Dropout)        (None, 768)          0           ['keras_layer_1[0][13]']         \n",
            "                                                                                                  \n",
            " output (Dense)                 (None, 1)            769         ['dropout-layer[0][0]']          \n",
            "                                                                                                  \n",
            "==================================================================================================\n",
            "Total params: 109,483,010\n",
            "Trainable params: 769\n",
            "Non-trainable params: 109,482,241\n",
            "__________________________________________________________________________________________________\n"
          ]
        }
      ],
      "source": [
        "model.summary()"
      ]
    },
    {
      "cell_type": "code",
      "execution_count": null,
      "metadata": {
        "id": "G1tvVRrvDcMT"
      },
      "outputs": [],
      "source": [
        "m= [\n",
        "      tf.keras.metrics.BinaryAccuracy(name='accuracy'),\n",
        "      tf.keras.metrics.Precision(name='precision'),\n",
        "      tf.keras.metrics.Recall(name='recall')\n",
        "]\n",
        "model.compile(optimizer='adam', loss='binary_crossentropy', metrics=m)"
      ]
    },
    {
      "cell_type": "code",
      "execution_count": null,
      "metadata": {
        "colab": {
          "base_uri": "https://localhost:8080/"
        },
        "id": "_kw1S1dIDcAh",
        "outputId": "e1ed976d-4155-427f-ab12-5101e1278cbd"
      },
      "outputs": [
        {
          "name": "stdout",
          "output_type": "stream",
          "text": [
            "Epoch 1/20\n",
            "100/100 [==============================] - 45s 322ms/step - loss: 0.6648 - accuracy: 0.5957 - precision: 0.5915 - recall: 0.6198\n",
            "Epoch 2/20\n",
            "100/100 [==============================] - 32s 321ms/step - loss: 0.6194 - accuracy: 0.6572 - precision: 0.6645 - recall: 0.6356\n",
            "Epoch 3/20\n",
            "100/100 [==============================] - 33s 334ms/step - loss: 0.5873 - accuracy: 0.6944 - precision: 0.6908 - recall: 0.7043\n",
            "Epoch 4/20\n",
            "100/100 [==============================] - 32s 323ms/step - loss: 0.5755 - accuracy: 0.7086 - precision: 0.7122 - recall: 0.7005\n",
            "Epoch 5/20\n",
            "100/100 [==============================] - 33s 328ms/step - loss: 0.5626 - accuracy: 0.7219 - precision: 0.7225 - recall: 0.7207\n",
            "Epoch 6/20\n",
            "100/100 [==============================] - 33s 333ms/step - loss: 0.5503 - accuracy: 0.7288 - precision: 0.7333 - recall: 0.7194\n",
            "Epoch 7/20\n",
            "100/100 [==============================] - 32s 325ms/step - loss: 0.5473 - accuracy: 0.7351 - precision: 0.7325 - recall: 0.7409\n",
            "Epoch 8/20\n",
            "100/100 [==============================] - 33s 326ms/step - loss: 0.5386 - accuracy: 0.7424 - precision: 0.7473 - recall: 0.7327\n",
            "Epoch 9/20\n",
            "100/100 [==============================] - 33s 325ms/step - loss: 0.5383 - accuracy: 0.7477 - precision: 0.7510 - recall: 0.7415\n",
            "Epoch 10/20\n",
            "100/100 [==============================] - 32s 324ms/step - loss: 0.5281 - accuracy: 0.7559 - precision: 0.7606 - recall: 0.7472\n",
            "Epoch 11/20\n",
            "100/100 [==============================] - 33s 326ms/step - loss: 0.5202 - accuracy: 0.7506 - precision: 0.7517 - recall: 0.7484\n",
            "Epoch 12/20\n",
            "100/100 [==============================] - 33s 329ms/step - loss: 0.5164 - accuracy: 0.7581 - precision: 0.7597 - recall: 0.7554\n",
            "Epoch 13/20\n",
            "100/100 [==============================] - 32s 324ms/step - loss: 0.5160 - accuracy: 0.7610 - precision: 0.7702 - recall: 0.7440\n",
            "Epoch 14/20\n",
            "100/100 [==============================] - 33s 326ms/step - loss: 0.5087 - accuracy: 0.7641 - precision: 0.7724 - recall: 0.7491\n",
            "Epoch 15/20\n",
            "100/100 [==============================] - 32s 324ms/step - loss: 0.5086 - accuracy: 0.7654 - precision: 0.7702 - recall: 0.7566\n",
            "Epoch 16/20\n",
            "100/100 [==============================] - 32s 325ms/step - loss: 0.5031 - accuracy: 0.7632 - precision: 0.7713 - recall: 0.7484\n",
            "Epoch 17/20\n",
            "100/100 [==============================] - 33s 331ms/step - loss: 0.5119 - accuracy: 0.7581 - precision: 0.7668 - recall: 0.7421\n",
            "Epoch 18/20\n",
            "100/100 [==============================] - 33s 326ms/step - loss: 0.5018 - accuracy: 0.7714 - precision: 0.7779 - recall: 0.7598\n",
            "Epoch 19/20\n",
            "100/100 [==============================] - 32s 324ms/step - loss: 0.5025 - accuracy: 0.7717 - precision: 0.7802 - recall: 0.7566\n",
            "Epoch 20/20\n",
            "100/100 [==============================] - 32s 325ms/step - loss: 0.4958 - accuracy: 0.7685 - precision: 0.7745 - recall: 0.7579\n"
          ]
        },
        {
          "data": {
            "text/plain": [
              "<keras.callbacks.History at 0x7fefae59b370>"
            ]
          },
          "execution_count": 18,
          "metadata": {},
          "output_type": "execute_result"
        }
      ],
      "source": [
        "model.fit(X_train, y_train, epochs=20)"
      ]
    },
    {
      "cell_type": "code",
      "execution_count": null,
      "metadata": {
        "colab": {
          "base_uri": "https://localhost:8080/"
        },
        "id": "Ajrpx64VEBhx",
        "outputId": "fce12259-39be-40a0-d3d1-ff6c71a09a47"
      },
      "outputs": [
        {
          "name": "stdout",
          "output_type": "stream",
          "text": [
            "34/34 [==============================] - 12s 314ms/step - loss: 0.4644 - accuracy: 0.8004 - precision: 0.7835 - recall: 0.8295\n"
          ]
        },
        {
          "data": {
            "text/plain": [
              "[0.4644382894039154,\n",
              " 0.8003784418106079,\n",
              " 0.7835420370101929,\n",
              " 0.8295454382896423]"
            ]
          },
          "execution_count": 19,
          "metadata": {},
          "output_type": "execute_result"
        }
      ],
      "source": [
        "model.evaluate(X_test, y_test)"
      ]
    },
    {
      "cell_type": "code",
      "execution_count": null,
      "metadata": {
        "id": "8tVst4Uy_fAi"
      },
      "outputs": [],
      "source": [
        "import json"
      ]
    },
    {
      "cell_type": "code",
      "execution_count": null,
      "metadata": {
        "colab": {
          "base_uri": "https://localhost:8080/"
        },
        "id": "jYy2Tlj3Fnov",
        "outputId": "10b1fc91-5163-412a-cf8e-7430daafda0c"
      },
      "outputs": [
        {
          "name": "stdout",
          "output_type": "stream",
          "text": [
            "Saved model to drive\n"
          ]
        }
      ],
      "source": [
        "model_json = model.to_json()\n",
        "with open(\"MyDrive/model.json\", \"w\") as json_file:\n",
        "  json_file.write(model_json)\n",
        "# serialize weights to HDF5\n",
        "model.save_weights(\"MyDrive/model.h5\")\n",
        "print(\"Saved model to drive\")"
      ]
    },
    {
      "cell_type": "code",
      "execution_count": null,
      "metadata": {
        "id": "sMdx2LFPBkYv"
      },
      "outputs": [],
      "source": [
        "#@title Testing the saved model \n",
        "from tensorflow.keras.models import model_from_json\n",
        "from tensorflow_hub import KerasLayer\n",
        "import json"
      ]
    },
    {
      "cell_type": "code",
      "execution_count": null,
      "metadata": {
        "colab": {
          "base_uri": "https://localhost:8080/"
        },
        "id": "uN_xrLEB5fCE",
        "outputId": "2c4e9c16-2d71-416e-e2ae-f80bc134eaa8"
      },
      "outputs": [
        {
          "name": "stderr",
          "output_type": "stream",
          "text": [
            "WARNING:tensorflow:Please fix your imports. Module tensorflow.python.training.tracking.data_structures has been moved to tensorflow.python.trackable.data_structures. The old module will be deleted in version 2.11.\n",
            "WARNING:tensorflow:From /usr/local/lib/python3.8/dist-packages/tensorflow/python/autograph/pyct/static_analysis/liveness.py:83: Analyzer.lamba_check (from tensorflow.python.autograph.pyct.static_analysis.liveness) is deprecated and will be removed after 2023-09-23.\n",
            "Instructions for updating:\n",
            "Lambda fuctions will be no more assumed to be used in the statement where they are used, or at least in the same block. https://github.com/tensorflow/tensorflow/issues/56089\n"
          ]
        },
        {
          "name": "stdout",
          "output_type": "stream",
          "text": [
            "Loaded model from disk\n"
          ]
        }
      ],
      "source": [
        "# Load the model\n",
        "with open('MyDrive/model.json', 'r') as json_file:\n",
        "    model_json = json_file.read()\n",
        "# model = tf.keras.models.model_from_json(model_json)\n",
        "custom_objects = {\"KerasLayer\": KerasLayer}\n",
        "model = tf.keras.models.model_from_json(model_json, custom_objects=custom_objects)\n",
        "# Load the weights\n",
        "model.load_weights('MyDrive/model.h5')\n",
        "print(\"Loaded model from disk\")"
      ]
    },
    {
      "cell_type": "code",
      "execution_count": null,
      "metadata": {
        "colab": {
          "base_uri": "https://localhost:8080/"
        },
        "id": "B78-ndf_cgXI",
        "outputId": "4dd20934-e9b1-4f2d-81dc-38f8445393b4"
      },
      "outputs": [
        {
          "data": {
            "text/plain": [
              "10803    Biden, Buttigieg and Sanders supporters have b...\n",
              "3831                     love you so much it makes me sick\n",
              "10274    Preliminary tornado count up to 7 from last Fr...\n",
              "164      ?!?!?! SO THEY SAYING SHOOTING DOWN THAT AIRPL...\n",
              "2037     #Update: No casualties have been found and the...\n",
              "                               ...                        \n",
              "5067     More than 23,000 people have been evacuated an...\n",
              "6404                                  i used to be cool :(\n",
              "10945    Ruh Roh [AS] ([AS]S)chiffty comes under fire f...\n",
              "9637     If I’m going, it’ll have to be in my Coachella...\n",
              "3711     Hi there, I'm very sorry to hear this, we are ...\n",
              "Name: text, Length: 1057, dtype: object"
            ]
          },
          "execution_count": 37,
          "metadata": {},
          "output_type": "execute_result"
        }
      ],
      "source": [
        "X_test"
      ]
    },
    {
      "cell_type": "code",
      "execution_count": null,
      "metadata": {
        "colab": {
          "base_uri": "https://localhost:8080/"
        },
        "id": "Fv-r6kkCHoLU",
        "outputId": "0ba56a56-1cea-4f72-fd65-1c86d5c994b3"
      },
      "outputs": [
        {
          "name": "stdout",
          "output_type": "stream",
          "text": [
            "34/34 [==============================] - 487s 14s/step\n"
          ]
        },
        {
          "data": {
            "text/plain": [
              "array([0, 0, 1, ..., 0, 0, 1])"
            ]
          },
          "execution_count": 25,
          "metadata": {},
          "output_type": "execute_result"
        }
      ],
      "source": [
        "y_predicted = model.predict(X_test)\n",
        "y_predicted = y_predicted.flatten()\n"
      ]
    },
    {
      "cell_type": "code",
      "execution_count": null,
      "metadata": {
        "id": "XKXpsmuzcq5C"
      },
      "outputs": [],
      "source": [
        "y_predicted = np.where(y_predicted > 0.5, 1, 0)\n",
        "y_predicted"
      ]
    },
    {
      "cell_type": "code",
      "execution_count": null,
      "metadata": {
        "id": "tFnK_AmNfsmF"
      },
      "outputs": [],
      "source": [
        "tweets = X_test.tolist()"
      ]
    },
    {
      "cell_type": "code",
      "execution_count": null,
      "metadata": {
        "colab": {
          "base_uri": "https://localhost:8080/"
        },
        "id": "_MAIKl5EapmJ",
        "outputId": "e35c035d-96e4-4211-f48c-4f9cf03d140a"
      },
      "outputs": [
        {
          "data": {
            "text/plain": [
              "True"
            ]
          },
          "execution_count": 45,
          "metadata": {},
          "output_type": "execute_result"
        }
      ],
      "source": [
        "y_pred =y_predicted.tolist()\n",
        "# y_pred.count(1)\n",
        "len(y_pred)==len(X_test)"
      ]
    },
    {
      "cell_type": "code",
      "execution_count": null,
      "metadata": {
        "colab": {
          "base_uri": "https://localhost:8080/"
        },
        "id": "82_7xlaAauib",
        "outputId": "11244811-28ac-4b61-919b-b1ac04e4277a"
      },
      "outputs": [
        {
          "name": "stdout",
          "output_type": "stream",
          "text": [
            " The disaster tweet is : Preliminary tornado count up to 7 from last Friday's storms https://t.co/GHsW2dT6pb\n",
            " The disaster tweet is : #Update: No casualties have been found and the fire has been put out, according to local authorities. The cause of… https://t.co/130QV9UDSC\n",
            " The disaster tweet is : BREAKING: Huge sinkhole swallows bus in northwest China; at least 6 dead, 16 injured, and 4 missing https://t.co/m12xBPxruu\n",
            " The disaster tweet is : Drones show Philippines town cloaked in ash from Taal volcano – video https://t.co/rkGl8v4vkN https://t.co/75FXWd9qUt\n",
            " The disaster tweet is : ah shit. state capture commission blue lights and sirens are back 😣\n",
            " The disaster tweet is : Train derailment causes pileup in Dunn County https://t.co/P0iKOyBFAP\n",
            " The disaster tweet is : STORM DAMAGE: A Madison family is looking forward to rebuilding after a tree at least 100 feet tall ripped their home apart.​ htt…\n",
            " The disaster tweet is : Taal volcano news – live: Hundreds of thousands urged to flee possible eruption as 'intense seismic activity' rocks Philippi…\n",
            " The disaster tweet is : Chemical Hazard - Advice for Cobram. For more info: https://t.co/sZvwPsq5NP #vichazmat\n",
            " The disaster tweet is : With the latest news on the eruption of Taal Volcano last (January 12, 2020), we advise the Lasallian community to stay safe…\n",
            " The disaster tweet is : Storm Brendan: Violent storm front currently moving across Ireland, with winds of up to 130k/h and heavy rain acros… https://t.co/YOZCZC9YM8\n",
            " The disaster tweet is : Nuclear Disaster Part 2 https://t.co/Z0WT3CxJI8\n",
            " The disaster tweet is : Emergency services called to a collision on the #M20 near #Maidstone Read More on this: https://t.co/JiRcce7U8m .… https://t.co/KGLr8oPZer\n",
            " The disaster tweet is : Ocean temperatures hit record highs as rate of global warming accelerates https://t.co/yS3nST7lN9\n",
            " The disaster tweet is : No no no Mallacoota was NOT evacuated by defense on New Years Eve. Morrison was partying &amp; watching fireworks &amp; pol…\n",
            " The disaster tweet is : The Philippine Seismic Network recorded a total of forty-nine (49) volcanic earthquakes in the Taal region from 2:0… https://t.co/0FWFGDKOUS\n",
            " The disaster tweet is : What Do We Really Know About the Transmission of Ebola? No one knows for certain how the Ebola virus is transmitte… https://t.co/NHAi3yx6Fb\n",
            " The disaster tweet is : 1️⃣4️⃣7️⃣ 🏠HOUSES RAZED BUT TREES STILL GREEN🌳 🤔How often did we see this in California’s 2018 “wildfires”❓ 🤔Since when…\n",
            " The disaster tweet is : Brahamans were rioting when British opened u… https://t.co/0YIiA7ztYb\n",
            " The disaster tweet is : Watauga County- several roads damaged from the heavy rain this weekend. The work being done today to make repairs before…\n",
            " The disaster tweet is : Guys, relax! Players have always collapsed on court due to bushfire smoke inhalation. #AusOpen #AustraliaBushfires\n",
            " The disaster tweet is : Weather warnings remain in place for heavy rain and wind across the #isleofwight. Take care on the roads and stay s… https://t.co/jXGYAmPjWk\n",
            " The disaster tweet is : a local veterinarian taking care of the horses from the volcano island. they are currently being treated here in an evacuat…\n",
            " The disaster tweet is : Bose QC35 price crash – premium wireless headphones dropped to ‘lowest’ ever price – NEWPAPER24… https://t.co/IyfbUDGAFU\n",
            " The disaster tweet is : Fire breaks out a shoe manufacturing unit in at the Lawrence Road in North Delhi. 26 fire tenders rushed to the spot. No cas…\n",
            " The disaster tweet is : A temperature increase of 1.5 degrees Celsius or 2.7 degrees Fahrenheit — as predicted under the Paris Climate Agreement without…\n",
            " The disaster tweet is : #Davender के खूलासे के बाद , Transforming India into a Terrorist Hub????\n",
            " The disaster tweet is : Many Iranian stars, sports and journalists break ranks to denounce the regime’s lying and cynicism in protest at downing o…\n",
            " The disaster tweet is : Australia wildfire map update: High and very high fire danger forecast as thunderstorms might hamper containment efforts http…\n",
            " The disaster tweet is : After this weekend's 6.0 earthquake, we continue to pray for our fellow American citizens in Puerto Rico. Trump Admin mu…\n",
            " The disaster tweet is : Up next on #abc730..the desperate measures some communities are taking to ensure they have enough water to survive. …\n",
            " The disaster tweet is : MEG issues Areal Flood Advisory for Alcorn, Benton, Prentiss, Tippah, Union [MS] till Jan 14, 5:45 AM CST https://t.co/JrxCSv8FRz\n",
            " The disaster tweet is : Spoke today with the Foreign Minister of #Oman, Yusuf bin Alawi bin Abdullah and expressed my condolences on the death of Su…\n",
            " The disaster tweet is : Heyyy Andy! Timings will be updated here asap - https://t.co/lMnHQy8c4x Doors are 6pm, and estimated curfew… https://t.co/4lsfDZdgJ6\n",
            " The disaster tweet is : BREAKING: no tsunami watch or warning following the 6.0 magnitude earthquake that just rocked Puerto Rico.\n",
            " The disaster tweet is : Last night in Sweden 🇸🇪 2 BOMBINGS. - There was a massive explosion in Stockholm that caused extensive damage to apartm…\n",
            " The disaster tweet is : On 2nd Dec 2019, Nigerian police invaded Barrister Ejiofor’s home to assassinate him. He escaped, but the force killed some…\n",
            " The disaster tweet is : #Iraq was building the first Arab nuclear reactor in 1979, unfortunately the Israelis carried out a surprised attac… https://t.co/bv6otaGYXT\n",
            " The disaster tweet is : Badminton king Momota faces two months out after fatal car crash https://t.co/PFPkSk9Fx6 https://t.co/PFPkSk9Fx6\n",
            " The disaster tweet is : In the wake of a storm that brought showers and gusty winds to the United Kingdom this weekend, an unsettled patter… https://t.co/Eq2a5eJ8wu\n",
            " The disaster tweet is : Reports of active shooter near school in Virginia, police say no injuries https://t.co/c35rcPfuUg\n",
            " The disaster tweet is : [Breaking] Nirbhaya Rape: Supreme Court dismisses curative petitions filed by two death row convicts #NirbhayaVerdict #Ni…\n",
            " The disaster tweet is : Hi Simon. I do apologise for the disruption. Due to a freight train derailment in the Hitchin area… https://t.co/6jonuyxaxu\n",
            " The disaster tweet is : UPDATE : 23-year-old lady who was trafficked to Lebanon, rescued by Nigerian government » https://t.co/HRYKtEqP6X\n",
            " The disaster tweet is : Australia is burning. The worst is yet to come: 24 people dead 500 million animals dead 8,000 koalas dead Over 5.5 mi…\n",
            " The disaster tweet is : RT NamugerwaLeah: \"Time is running out. Right now we're facing a man made disaster of global scale. Climate change… https://t.co/QY2Zx4rwhc\n",
            " The disaster tweet is : NWS Alert&gt; Strong Thunderstorm Over Iuka Moving E At 50 MPH. Small Hail, Winds Over 30 MPH Possible. Locations Impa… https://t.co/G5yIYGlsRC\n",
            " The disaster tweet is : 'Space Wreck' concept... #Space1999 #conceptart #anime #film #alien #eagle #conceptships #scifi #scifiart #spaceship #art…\n",
            " The disaster tweet is : A January heat wave engulfed the eastern half of the country, toppling records https://t.co/aNuRxrmVAC\n",
            " The disaster tweet is : Queen Hind: 180 rescued sheep arrive at new home in Romania https://t.co/DmnKcTz7ao #QueenHind #Romania #EndLive…\n",
            " The disaster tweet is : #BREAKING: Several people have been arrested because of their role in the Ukrainian plane crash in Iran that killed… https://t.co/scWtzlb8Ku\n",
            " The disaster tweet is : #Kashmir DSP Davinder Singh's dramatic arrest with 2 militants has created big national security questions for India: E…\n",
            " The disaster tweet is : 50% of Syrians made homeless by war, living in a tent, so as not to die under the bombing... https://t.co/FsmZoUhjyZ\n",
            " The disaster tweet is : ** Cleared ** The vehicles involved in the collision have been moved to a safe location and all lanes have reopened… https://t.co/E8NNC7lqD4\n",
            " The disaster tweet is : The British were also responsible for the famines in 1770, 1783, 1866, 1973, 1892 &amp; 1897 that, took more than 14 million li…\n",
            " The disaster tweet is : Marivan, Kurdistan Province Monday, Jan 13th, 2020 Protesters set the propaganda banner of #QassemSoleimani ablaze. #I…\n",
            " The disaster tweet is : CONFIRMED: NZDF will be part of US militarisation of space - already war planning exercises underway in Alabama. More we…\n",
            " The disaster tweet is : ECG pole electrocute young man at Kpando https://t.co/AwmQnqDeR6 https://t.co/5IzMbZfTSV\n",
            " The disaster tweet is : A 148 km/h gust at in the past 15 minutes. Violent Storm Force winds are now pushing into the southwest. #sto…\n",
            " The disaster tweet is : Damage after another 6.0 earthquake hit Puerto Rico this morning. Severe seismic activity has not stopped since December 28.…\n",
            " The disaster tweet is : There’s a major upheaval coming in the Nigerian political system.\n",
            " The disaster tweet is : Never-before-seen virus may be behind mystery outbreak in China https://t.co/yDksz2S2WK\n",
            " The disaster tweet is : EF-1 tornado touches down near Loris High School https://t.co/5PHQEL1s5k\n",
            " The disaster tweet is : Refugee contractors have vested interest in making sure as many refugees are resettled across the U.S. as possible becau…\n",
            " The disaster tweet is : Because of the major fires in Australia the local Air Force has begun to air drop vegetables for wild animals. Animals are…\n",
            " The disaster tweet is : they went to the valley to play in the water once and 1st girl suddenly screamed while kicking the water and a snake fell o…\n",
            " The disaster tweet is : ⚠️ UPDATE: #A141 westbound between Tesco and Audi roundabouts #Huntingdon; Road BLOCKED due to road traffic collision. Q…\n",
            " The disaster tweet is : Snowstorm slams Kitsap County, knocking out power to thousands https://t.co/Cg62kSllCT\n",
            " The disaster tweet is : Neighbours house hit by lightning last night. Sirens blaring. Lights blinding. Nae sleep. Raging.\n",
            " The disaster tweet is : This is truly frightening! Methane is the hidden trigger for Catastrophic Climate Breakdown. Trump is putting all future…\n",
            " The disaster tweet is : Melbourne is facing an air quality emergency Tuesday as hazardous levels of smoke haze engulf the city 😷. As pollution lev…\n",
            " The disaster tweet is : #LatestNews #Trending A January heat wave engulfed the eastern half of the country, toppling records - The Washingt… https://t.co/7sgZ2p0Y5T\n",
            " The disaster tweet is : ⚠️ UPDATE: #A141 westbound between Tesco and Audi roundabouts #Huntingdon; Road BLOCKED due to road traffic collisi… https://t.co/tRuHa5NsgI\n",
            " The disaster tweet is : #Iran agreed to give Canada access to the wreckage and the black box from downed Ukrainian plane. But Canadian officials ar…\n",
            " The disaster tweet is : A massive fire in Somerset County consumed at least five buildings, forced over 100 residents to evacuate and suspe… https://t.co/72cwoB36DA\n",
            " The disaster tweet is : NWSSevereTstorm Severe Thunderstorm Warning including Clinton NC, Mount Olive NC, Brogden NC until 3:00 PM EST https://t.co/hOe8p54hyN\n",
            " The disaster tweet is : While we’re busy responding to #bushfires here at home our colleagues at are helping people caught up in the…\n",
            " The disaster tweet is : Catastrophic events – Grenfell Tower (2017), and Neo 200 (2019) - reinforce the need to ensure buildings are built… https://t.co/BSliXJqMwQ\n",
            " The disaster tweet is : Are you a firefighter, a chemical facilities employee, or have experience in emergency services? The Hamilton County Hazmat…\n",
            " The disaster tweet is : BBC News - China sinkhole: Six killed as ground swallows bus https://t.co/GLuu7TJzmB\n",
            " The disaster tweet is : Hadaba Military College Cadets Drone Bombed by LNA in Tripoli, Libya\n",
            " The disaster tweet is : Transforming from a wounded woman to a sacred woman. ✨\n",
            " The disaster tweet is : Police grow concerned for missing Malvern schoolgirl https://t.co/yHBDzmGzSu\n",
            " The disaster tweet is : Aussies employed in the transport, postal and warehousing industry face the greatest risks, with 55 deaths in this… https://t.co/vcz9mTc3hO\n",
            " The disaster tweet is : ISIS strap suicide vests to PUPPIES in horror footage of sick front line bomb tactic https://t.co/Ed7oqMVvFN\n",
            " The disaster tweet is : 6 fatalities were reported on the West Coast in December 2018. In December 2019, the district municipality recorde… https://t.co/ObUEmQWWTs\n",
            " The disaster tweet is : Bit weird, really. Platform packed, no trains since before 7 because a freight train derailed in the depot. Sounded… https://t.co/fqzkAlItFB\n",
            " The disaster tweet is : Wind Turbines chop up and Electric Wires electrocute millions of birds and bats annual… https://t.co/cCfMHgdi3D\n",
            " The disaster tweet is : Garda investigation launched after body parts discovered in bag in north Dublin https://t.co/zxmvBZGCHB\n",
            " The disaster tweet is : (China sinkhole: Six killed as ground swallows bus) - https://t.co/4Mw1Qmtbrh https://t.co/UWfAQAANRn\n",
            " The disaster tweet is : New growth on Wollemi Pine (Wollemia nobilis) in my collection. My plants were subjected to wildfire on December 15th, 201…\n",
            " The disaster tweet is : This man was seen fallen down in our community at Amje Alagbado Lagos this morning, very sick &amp; can not describe anyth…\n",
            " The disaster tweet is : The 'hazardous' air level due to the #bushfires in #Australia makes impossible to continue a match.… https://t.co/Po6AS1SwDp\n",
            " The disaster tweet is : Inferno on Black Friday 1939: 71 deaths, 3,700 buildings, too much fuel and “lit by the hand of man” « JoNova https://t.co/ieD…\n",
            " The disaster tweet is : Over the weekend, Puerto Rico was struck by a 5.9 aftershock, causing more damage to homes and schools and leaving thou…\n",
            " The disaster tweet is : This is the type of window that the man had fell from this morning in #HongKong, which the police ruled as unsuspicious…\n",
            " The disaster tweet is : Bourbon street bout to be quarantined\n",
            " The disaster tweet is : LOOK: Volunteers from Manila District Fire and Rescue saved not just residents but also dogs in Agoncillo town. They are plann…\n",
            " The disaster tweet is : BBC News - China sinkhole: Six killed as ground swallows bus https://t.co/cov7AgtPJv\n",
            " The disaster tweet is : Incident closed: Collision on M50 between J09 - RED and J07 - LUCAN (North) https://t.co/kt5EM5opsR\n",
            " The disaster tweet is : NWSSevereTstorm Severe Thunderstorm Warning continues for Vineland NJ, Glassboro NJ, Lindenwold NJ until 7:30 AM EST https://t.co/ccUdFbMXmk\n",
            " The disaster tweet is : Royal Family in upheaval... https://t.co/UOwJcH264o\n",
            " The disaster tweet is : Richard Branson engulfed in crisis at Flybe after Virgin rescue https://t.co/Qk6PV3BYz8\n",
            " The disaster tweet is : We are currently attending a road traffic collision on the #A92, northbound near to the Portlethen junction The road is do…\n",
            " The disaster tweet is : #Israel to Demolish Homes of #Palestinian #Prisoners in #WestBank #WarCrimes https://t.co/oH3gkSXvY0 via …\n",
            " The disaster tweet is : #UPDATE Enormous sinkhole swallows a bus and pedestrians in northwest China, sparking an explosion. Six killed, four missing h…\n",
            " The disaster tweet is : #Battersea #fatality https://t.co/LswfzRAKKB\n",
            " The disaster tweet is : Marivan, western #Iran Brave youths set fire to a large poster of the mullahs' IRGC Quds Force chief Qasem Soleiman… https://t.co/m1vluajqMJ\n",
            " The disaster tweet is : At least fifty-seven people have been reported dead in an avalanche in Neelum Valley. The operation to rescue other… https://t.co/RBp0M0KQ3C\n",
            " The disaster tweet is : Incident Update: Collision on M7 between J05 - ATHGOE and J04 - RATHCOOLE (East) Lanes affected: Lane 1 has reopene… https://t.co/1maMcwxi6K\n",
            " The disaster tweet is : Navy imposes curfew in Ondo community over killing of Ratings, missing arms… https://t.co/HlGU4egwVs #sagagist\n",
            " The disaster tweet is : [BREAKING] - ER24, Life Healthcare and WC Metro Services, are on scene of a mass casualty incident in Wetton in the Western Ca…\n",
            " The disaster tweet is : #OnThisDay 2018 Chinese state media confirmed that Iranian tanker SANCHI had sunk after burning for more than a week fol…\n",
            " The disaster tweet is : The two airmen who were found dead in a base dormitory room at Spangdahlem Air Base Thursday were both airmen first cl…\n",
            " The disaster tweet is : Just dial 112 toll-free from your phone in the event that you wish to report fire, flood, theft, armed robbery, k… https://t.co/1e2jgI6C8Q\n",
            " The disaster tweet is : Arcanine was discovered hiding next to the ominous nuclear reactor.\n",
            " The disaster tweet is : The occupants, a female, two males and a baby, were awoken by two loud bangs. No one was injured. ATO deployed to s… https://t.co/JkV3Y9EmWf\n",
            " The disaster tweet is : Cameroon's #BIR soldiers on the 05/01/2020 invaded the #SouthernCameroons Village of Kimar - So setting ablaze a total of…\n",
            " The disaster tweet is : In Russian military history 13 January (1/3) 1915: Russians advance on Lower Vistula &amp; occupy Serpets. Cruiser 'Ru… https://t.co/L2NytgcByM\n",
            " The disaster tweet is : Massive fire in New Jersey leaves thousands without power: U.S. media A massive fire engulfed many buildings in Bou… https://t.co/aO79viaMHT\n",
            " The disaster tweet is : A THUNDERSTORM WITH HEAVY RAIN WILL AFFECT CENTRAL PASQUOTANK, PERQUIMANS, NORTHEASTERN BERTIE, SOUTHEASTERN HERTFO… https://t.co/6N6QDJPTXq\n",
            " The disaster tweet is : #JusticeforGauravChandel It has been 7 days of murder of Gaurav, but police is still clueless in this case. I request to al…\n",
            " The disaster tweet is : -SHSN +BLSN and very strong outflow winds Sumas Prairie .. very icy from Hope to just east Abbotsford. Very squirrely danger…\n",
            " The disaster tweet is : Puerto Rico is getting hit on the 10th anniversary of the earthquake that flattened Haiti. Could be the Caribbean… https://t.co/19ckL31fuB\n",
            " The disaster tweet is : Several houses have been set ablaze in Ngemsibaa village, Oku sub division in the North West Region of Cameroon by… https://t.co/99uHGAzxy2\n",
            " The disaster tweet is : US-Mexico Border: Portal For TB, Swine Flu, Bioterror https://t.co/I64vGPN1iB via\n",
            " The disaster tweet is : #TodaysHero James Rose, whose legs were blown off by a roadside bomb in Afghanistan, he also suffered a broken pelvis an…\n",
            " The disaster tweet is : Emergency services called to 'chemical incident' in Gilmerton - The Scotsman https://t.co/G4sJSOb69q ➜… https://t.co/FyC1EZzVgH\n",
            " The disaster tweet is : 3.5 magnitude earthquake recorded in Bulgan aimag #MONTSAME #Mongolia https://t.co/yteSvu24Q8\n",
            " The disaster tweet is : We call on the Ph government to do its job and urgently. Stop this charade asking the people for donations. Lagi na la…\n",
            " The disaster tweet is : Authorities in Virginia are trying to determine what happened to a person who was found dead inside a mobile home f… https://t.co/7YcGP1THLo\n",
            " The disaster tweet is : Police figures show far fewer people in Australia have been charged with bushfire arson https://t.co/8KPMNFSmcp https://t.co/VQeZhECrJm\n",
            " The disaster tweet is : Good morning, we have been informed of a derailed freight train at Hitchin this morning,… https://t.co/kRU9vvSrK5\n",
            " The disaster tweet is : Eduardo Degrano looks at the damage to his home after a fissure formed underneath his ancestral house. In a nearby house, owne…\n",
            " The disaster tweet is : US troops clear rubble from Iraq base days after Iran strike Journalists touring the Ain al-Asad base saw large cra… https://t.co/LWg6lFZz7r\n",
            " The disaster tweet is : FROM NWS BLACKSBURG: NWSBlacksburg: Severe Thunderstorm Warning including Danville VA, Eden NC, Reidsville NC until… https://t.co/5dZc905uKJ\n",
            " The disaster tweet is : Panic As Man Spotted Walking Around The City Heavily Armed - https://t.co/H1IwEKCTQY https://t.co/0hVPGFahXl\n",
            " The disaster tweet is : Sinkhole swallows bus and passengers, killing at least 6 https://t.co/nZf9xQUFVI -Yale Fishman https://t.co/By8BcYDd8s\n",
            " The disaster tweet is : The erratic jet stream is causing chaos on both sides of the Atlantic and the Pacific Northwest: UK and Ireland exp… https://t.co/ioYw6h6Bgm\n",
            " The disaster tweet is : Too bad. Six people death, four still missing as sinkhole in China swallows bus with passengers https://t.co/EBFGY3po4Y\n",
            " The disaster tweet is : WEATHER ALERT: Severe Thunderstorm Warning continues for Mount Olive NC, Brogden NC, Seven Springs NC until 3:00 PM… https://t.co/tEdmjvpIR5\n",
            " The disaster tweet is : British woman thought deadly nerve agent was perfume LONDON -- A British man who survived exposure to the deadly https://t.co/ATUxW3hg3d\n",
            " The disaster tweet is : Eirik Eide Pettersen- A safer and cheaper nuclear reactor to tackle energy poverty without increasing carbon emissi… https://t.co/VMgrQa4dAo\n",
            " The disaster tweet is : Malaysia Masters winner suffered cuts, whole-body bruising in accident that killed his driver. #FMTNews #Badminton https://t.co/UhoU2hQRxA\n",
            " The disaster tweet is : Boeing employees mocked Lion Air staff for seeking 737 Max training, calling them \"idiots.\" A year later 189 people died when…\n",
            " The disaster tweet is : Does the push for vaccination point to a staged bioterror event? https://t.co/WWvKQkY1O2\n",
            " The disaster tweet is : ERUPTION UPDATE FOR TAAL VOLCANO ALERT LEVEL 4 (HAZARDOUS ERUPTION IMMINENT) 14 JANUARY 2020 01:00 PM #TaalVolcano #Ta…\n",
            " The disaster tweet is : Chinese officials so far have reported no evidence of human-to-human transmission, which suggests a large outbreak is unli…\n",
            " The disaster tweet is : The plan to reduce APD was scrapped after the declaration of a climate emergency by the Scottish Governm… https://t.co/Jxom6zt9XB\n",
            " The disaster tweet is : What is this pandemonium? https://t.co/WPzRDlRPYX\n",
            " The disaster tweet is : CCTV footage showed an explosion inside the enormous sinkhole shortly after the bus and bystanders fell inside. https://t.co/e2iDWIZaDi\n",
            " The disaster tweet is : As fire chiefs in NSW have made clear there may be a few cases of arson but most fires are caused by ligh… https://t.co/7GDlTmGvrO\n",
            " The disaster tweet is : Iranian authorities warned protesters not to stage further antigovernment demonstrations, as a video appeared to show security…\n",
            " The disaster tweet is : A M4.7 earthquake has been reported by the GEOFON for M 4.7, Philippine Islands Region. Link: https://t.co/rRGeAgetcb\n",
            " The disaster tweet is : Hi there, a freight train has experienced a low speed derailment in the Hitchin area which is causing some delays.…\n",
            " The disaster tweet is : UNIAN info the Ukrainian plane 737 that crashed killing all its victims in Iran would have faced the same fate beca… https://t.co/BwLFWUySbo\n",
            " The disaster tweet is : Is its core seeping through shifting faults during these seismic events?\n",
            " The disaster tweet is : Are you speaking about the atrocities and annihilation of Christians across the Middle East committed by Muslims daily? #Sat…\n",
            " The disaster tweet is : China sinkhole: Six killed as ground swallows bus https://t.co/3TCoFIJqor\n",
            " The disaster tweet is : The forgotten nasty wreck between Landon Cassill and Jeffery Earnhardt at the Brickyard in 2018 https://t.co/Bi6C5brbVH\n",
            " The disaster tweet is : A volcano near the Philippine capital is spewing lava, ash and steam and trembling constantly on the third day of a… https://t.co/hgnO5eP24K\n",
            " The disaster tweet is : Thank you. Wala rin po kasi response from nearby rescuers. If possible, can I have at least get their number? Please dm.\n",
            " The disaster tweet is : 1,441 earthquakes in Puerto Rico in the last 30 days. 1,441. The earth keeps shaking. Families are sleeping on the st…\n",
            " The disaster tweet is : Since 'Kashmir is under curfew', Nazreen may not be able to g… https://t.co/KsjQTb7tdz\n",
            " The disaster tweet is : Enormous sinkhole swallows passers-by and a bus in northwest China. 15 injured, 10 still missing https://t.co/eFaA9mm0ko 📸 A bu…\n",
            " The disaster tweet is : An update on the massive fire on Main Street in Bound Brook Sunday night. https://t.co/GjM6x84Rtt\n",
            " The disaster tweet is : Puerto Rico hit by another 5.9 magnitude aftershock - KYMA https://t.co/vRAdkSZaLn\n",
            " The disaster tweet is : Manchester United are considering offering Nemanja Matić a new contract because of their injury crisis. (Source: Daily…\n",
            " The disaster tweet is : [CLOCOLAN] – Two killed when bakkie and car collide. https://t.co/A3zZTtIu2Z …\n",
            " The disaster tweet is : A sinkhole swallowed a bus in China suddenly, as passengers were boarding. At least six people were killed https://t.co/Qdc5W…\n",
            " The disaster tweet is : Hazardous air quality 😔😔😔 not untrue because this air is so bad https://t.co/i2ZLoCwXi3\n",
            " The disaster tweet is : Hazardous eruption a possibility after Philippines volcano erupts https://t.co/cwtpUi602z via Another natu… https://t.co/MGQRjKKqpp\n",
            " The disaster tweet is : Iran Says That They Shot Down Ukraine International Flight 172 By Accident. Here is an Picture of that Aircraft in… https://t.co/COdnYq77uZ\n",
            " The disaster tweet is : Five years ago Kisilu, a Kenyan farmer, started to use his camera to capture the life of his family, his village and the damage…\n",
            " The disaster tweet is : One of the newest Japanese lighthouses, the Aonae Misaki #lighthouse on Okushiri Island, Hokkaido, was built in 1994 after…\n",
            " The disaster tweet is : Following the Haiti earthquake, the EU provided shelter, safe drinking water, healthcare, food and protection to 5 million peo…\n",
            " The disaster tweet is : A sunken yacht has finally been pulled out of the Mooloolah River, almost a year after it was abandoned. The wrecka… https://t.co/H00suo4N0z\n",
            " The disaster tweet is : #StormBrendan #IrishSea/ Beaufort Force 11 (Violent storm) = 64–72 mph winds, waves 37–52 ft......Exceptionally high waves…\n",
            " The disaster tweet is : Iran Hit By Sandstorm &amp; Earthquake As They Plan To Attack Israel! https://t.co/pe19ITdRsi\n",
            " The disaster tweet is : BREAKING NEWS: Four people found dead in Florida and there could be possible ties to Connecticut. The latest on tha… https://t.co/DkDS7LqagW\n",
            " The disaster tweet is : Is it time for Charter 2020? https://t.co/pKzcQ1O3ZK\n",
            " The disaster tweet is : A fire razed at least 60 houses in a densely populated residential area in Sitio Santo Niño 3, Barangay Luz, on Mon… https://t.co/fMZruP45Fs\n",
            " The disaster tweet is : Ch Tanveer's (PML-N Senator) house in Islamabad being demolished cos built on encroached land. https://t.co/yiJLixS2iI\n",
            " The disaster tweet is : A skier caught in an avalanche in Banff National Park on Friday has died of her injuries https://t.co/tfqL1SiPVA https://t.co/gXX2rPjHS2\n",
            " The disaster tweet is : \"Flygon is kicking up a storm!\" #Raihan #Pokemon https://t.co/k61LXjRcWJ\n",
            " The disaster tweet is : In a statement, it said \"evidence is highly suggestive that the outbreak is associated with exposures in one seafoo… https://t.co/jO8ja6ilhW\n",
            " The disaster tweet is : Venice canals almost run dry two months after severe flooding https://t.co/gquZjgNycd\n",
            " The disaster tweet is : WEATHER ALERT: Severe Thunderstorm Warning including Hohenwald TN, Waynesboro TN until 8:15 PM CST https://t.co/ZhpTSiYInB\n",
            " The disaster tweet is : No just plain hard facts. Australia has always had fires - Tony Heller… https://t.co/pSFW3bHioq\n",
            " The disaster tweet is : The Crisis group in its 2018 report stated that about 4,000 lives were lost in elections conducted from 2006 to 201… https://t.co/kUtIUtvjDP\n",
            " The disaster tweet is : This curfew clock in front of Serena Hotel Islamabad is also clock for KP Action in Aid of Civil Power ordinance. Both occurr…\n",
            " The disaster tweet is : Over 46, 377 people displaced (9,463 households) in #ElGeneina, West #Darfur according to the latest estimated figures of DTM…\n",
            " The disaster tweet is : Three people were taken to hospital after two cars collided in Surfers Paradise. https://t.co/tIEQ9K5sus #7NEWS https:/…\n",
            " The disaster tweet is : Back to NDN &amp; Harper era: “The nuclear industry wants to bury nuclear reactor waste on or near First Nations territories…\n",
            " The disaster tweet is : 3 children die in separate KZN drowning incidents https://t.co/Ha1PoOcgAv | https://t.co/uX2dUraIu1\n",
            " The disaster tweet is : The date is 2035 and Australia has divided into two bitterly opposed groups - those who prefer fires, and those who prefer f…\n",
            " The disaster tweet is : Chinese woman with mystery virus quarantined in Thailand https://t.co/LmgPP7wQX4\n",
            " The disaster tweet is : LOOK: The (PCG) Sub-Station in Talisay, Batangas extended assistance to evacuate the remaining affected residents…\n",
            " The disaster tweet is : Ancient Viking Runestone's Warning Of 'Ragnarok' Apocalypse Predicts Extreme Climate Change... https://t.co/WchvcbLBoE\n",
            " The disaster tweet is : 10 years ago today, a devastating earthquake wreaked havoc on Haiti, claiming over 250K lives and injuring an estimated 1.5 mil…\n",
            " The disaster tweet is : Emergency services are battening to save homes from #StormBrendan here in Carrickfergus. The water continues to flood street…\n",
            " The disaster tweet is : #UPDATE: No casualties reported in the explosion at a chemical factory in Zhuhai, South China's Guangdong, and the fire has be…\n",
            " The disaster tweet is : #Rain-triggered incidents including #avalanches and #landslides have caused 35 deaths across #KPK, #Kashmir,… https://t.co/11y57QZCFr\n",
            " The disaster tweet is : 93-year-old white man shoots a black apartment manager in both legs over water damage in unit.🤬🤬🤬 https://t.co/02HMEBw8Dv…\n",
            " The disaster tweet is : https://t.co/hh5JoRHdFb hazard imitating sterling 😂😂😂💔\n",
            " The disaster tweet is : take action against the hijacker: https://t.co/HvugBi8PKi 3/3\n",
            " The disaster tweet is : A lot of people in Tacloban died during Typhoon Yolanda because they didn't know what a \"storm surge\" was. It doesn't m…\n",
            " The disaster tweet is : Puerto Rico hit by another 5.9 magnitude aftershock - KYMA https://t.co/P9Th3vpTak\n",
            " The disaster tweet is : Stunning drone video of Bound Brook fire aftermath shows charred, smoldering wreckage https://t.co/Zc5tKjzpZO\n",
            " The disaster tweet is : Help for Animal Fire Victims Premier Annastacia Palaszczuk has announced grants for wildlife carers inundated with… https://t.co/x0sedOKDlg\n",
            " The disaster tweet is : The women were doing a left turn when the guy crashed into them coming from behind. He was speeding about 140 km/h… https://t.co/m3DPHJKxOc\n",
            " The disaster tweet is : Iran says some people arrested for their role in Ukrainian plane crash https://t.co/hFADsZKRPH\n",
            " The disaster tweet is : Bushfire smoke plume destined to reach Australia again after circling the globe, NASA predicts https://t.co/UGMkGbh02a\n",
            " The disaster tweet is : The whole planet is facing an emergency due to imminent 5G radiation. Greta please stop… https://t.co/D4Dh9Sshuo\n",
            " The disaster tweet is : Flybe collapsing would be catastrophic for the UK and Ireland, far more so than Thomas Cook collapsing and ruining skiing holidays.\n",
            " The disaster tweet is : On Wednesday, Jan. 8, a jetliner operated by Ukrainian International Airlines crashed shortly after taking off in Iran. Al…\n",
            " The disaster tweet is : Strato: Meet Some Of The Australian Animals Hardest Hit By The Wildfire Disaster https://t.co/sdCVMowxgq #startup… https://t.co/gp9QVWhLud\n",
            " The disaster tweet is : SIGN: Justice for Dog Tied to Rock and Dumped in River to Drown https://t.co/LnRgVJzPna\n",
            " The disaster tweet is : Calling all first responders... It's not too late to sign up for the 2020 Police Plunge! Join us next Friday, January 2…\n",
            " The disaster tweet is : see the tsunami inundation maps so you can understand the real risk... These maps show… https://t.co/srXxVas476\n",
            " The disaster tweet is : Hello.agriculture ,what can you do to treat early blight in my greenhouses? https://t.co/3FGgaJjiO4 https://t.co/kt…\n",
            " The disaster tweet is : #France agrees to send more troops to #WestAfrica to fight #IslamicTerrorism https://t.co/NwV07Yi7nZ https://t.co/6SS2JxypBa\n",
            " The disaster tweet is : WEATHER ALERT: Severe Thunderstorm Warning continues for Locust Grove GA, Jackson GA, Flovilla GA until 1:15 AM EST https://t.co/rhafV4CLLc\n",
            " The disaster tweet is : Timely action during accidents can save someone's life. If you find someone with injury then call for an ambulance… https://t.co/9PPTiJUJpN\n",
            " The disaster tweet is : Forecasters are saying there’s “a lot of rain to go round in the next eight days”, with parts of bushfire-ravaged area…\n",
            " The disaster tweet is : Hackers believed to be affiliated with Russia’s military breached the Ukrainian gas company where former Vice President Jo…\n",
            " The disaster tweet is : Google’s hydraulic model for this river in India is much more accurate (inundation mapping) than legacy models. Sh… https://t.co/o3TNKH86Rt\n",
            " The disaster tweet is : why is the 0714 HIT-CAM stuck at Royston please? Should e clear of the derailment??\n",
            " The disaster tweet is : It matters to bts &amp; army. RM mentioned abt… https://t.co/lJdIfDz0by\n",
            " The disaster tweet is : Hitachi UK rolls out CESAR https://t.co/Od1GCqi2kV https://t.co/JGBFy5GZny\n",
            " The disaster tweet is : Received video from Bukavu, DRC where heavy rain &amp; flooding this weekend has led to 13 people being killed. https://t.co…\n",
            " The disaster tweet is : #AJE US troops clear rubble from Iraq base days after Iran strike https://t.co/h0YjxsBrM8 #Iraq\n",
            " The disaster tweet is : Mexican Border City on High Alert Over Jihad ‘Suicide Bomber’ Threat: Four four nationals of Iran. Democrats and jihad gr…\n",
            " The disaster tweet is : The oil spill bursts 2 flame at Athony oil facility, Aliiny County, Ruweng State. The oil spillage &amp; subsequent burnin…\n",
            " The disaster tweet is : At Abukuma #river bed, middle of #Fukushima city, 5 years after #nuclear #disaster. 20μSv/h #radiation https://t.co/6vabiTbz5U #japan\n",
            " The disaster tweet is : Fires have also affected the alpine habitat of the endangered southern corroboree frog and the forest and sub-alpin… https://t.co/fAuS7OC8eC\n",
            " The disaster tweet is : Syria - Southern Idlib countryside Assad regime militias stationed in nearby checkpoints bomb the towns of Tal-Min… https://t.co/v6rK0Ww7nO\n",
            " The disaster tweet is : #DUBLIN Multi-vehicle collision on N7 inbound. More here: https://t.co/PSzIBsvOzE\n",
            " The disaster tweet is : A look inside a tree that has been struck by lightning. https://t.co/jGpecgFDOI\n",
            " The disaster tweet is : Real Agenda of Kuala Lumpur Islamic Summit Plans Derailed by Saudi Arabia. https://t.co/aRxNthkyNv\n",
            " The disaster tweet is : Ask an Expert: Oregon State Extension faculty and Master Gardeners answer questions about… https://t.co/ZN69f2vSok\n",
            " The disaster tweet is : #CGIARWheat announces new partnership with Jiangsu Academy of Agricultural Sciences (JAAS) in #China to open screening facility…\n",
            " The disaster tweet is : Homer is driving drunk😱 and has collided with a person cartwheeling 🤸\n",
            " The disaster tweet is : Koala Who Burned All 4 Paws In Fires Is So Happy To Finally Be Safe https://t.co/1PLdtHO28k\n",
            " The disaster tweet is : 118) In 396 AD, the city of Sparta is sacked and then razed to the ground by Gothic King Alaric I who has already… https://t.co/Q3XGRGYv8m\n",
            " The disaster tweet is : good afternoon, we're doing our best to give out goods to those who have evacuated here and are in need. pero nagkukulang…\n",
            " The disaster tweet is : 2: Will India face backlash from intl community over CAA? India is housing largest number of refugees in all of South…\n",
            " The disaster tweet is : 72 hours later, the whereabouts of any of the supposedly freed students haven't been revealed. None of the families… https://t.co/MV569iGxrG\n",
            " The disaster tweet is : united nations chargeing the war name dessert storm as last name storms and dry land in australia was planned to ha… https://t.co/W0ZNbkLoCZ\n",
            " The disaster tweet is : Avalanches in #Pakistan kill 57 people https://t.co/JgrUDpMet3\n",
            " The disaster tweet is : 14/1/1941 This day 1941 British cargo ship Eumaeus torpedoed/sunk Mediterranean #unknown losses Anyone have a famil… https://t.co/6sZIEjfd06\n",
            " The disaster tweet is : ⚠️ STATUS RED - GALE WARNING Storm force south to southwest winds continuing for a time on all Irish coastal wate… https://t.co/E3EBOcPOh1\n",
            " The disaster tweet is : #Lanarkshire This is the big one for Scotland - no doubt as it captured much of Glasgow: 54 deaths… https://t.co/tNTZ97ByeQ\n",
            " The disaster tweet is : On this date January 13 in 2018, a false emergency alert warning of an impending missile strike in Hawaii caused wides…\n",
            " The disaster tweet is : The #Kharqamar massacre occurred soon after opposition parties had included and in a meeting to discu…\n",
            " The disaster tweet is : On January 9,1992 , 10 Persons were killed and 5 others injured by Khalistani Terrorists in KupKalan in Sangrur, Punjab. #…\n",
            " The disaster tweet is : [A] VP Leni Robredo in Batangas today to visit residents affected by the Taal Volcano eruption. First stop at Fernando Air…\n",
            " The disaster tweet is : In the areas of District Neelum, the snowstorm has greatly increased the problems of the people. 65 people's have died…\n",
            " The disaster tweet is : Impeach Trump 11 people, including 2 first responders, died today as a re… https://t.co/gMWBFVKnQx\n",
            " The disaster tweet is : I've been getting alerts from the government emergency services app, saying that the air is hazardous to he…\n",
            " The disaster tweet is : A fire outbreak has razed down shops, ravaging stuff worth over millions at the old market in Sokoto. May Allah rescue and forgive us!\n",
            " The disaster tweet is : Several injured as trains collide on Naples metro https://t.co/3kAYBbrlyc https://t.co/iwqr17lJBe\n",
            " The disaster tweet is : Body parts found in bag as police probe 'suspicious' death https://t.co/wHcYwQq6Qo https://t.co/POWF9qaabd\n",
            " The disaster tweet is : #M20 between J5 #Maidstone &amp; J4 #Leybourne - vehicles involved in the traffic collision have now been moved to lane… https://t.co/YVx77sqsrr\n",
            " The disaster tweet is : #M20 between J5 #Maidstone &amp; J4 #Leybourne - vehicles involved in the traffic collision have now been moved to lane 1. T…\n",
            " The disaster tweet is : 20+ Hindus houses attacked &amp; burned in Telangana by peaceful Community. Stone pelted and houses looted. Even police perso…\n",
            " The disaster tweet is : At least six dead after huge sinkhole in China swallows bus and pedestrians #China https://t.co/5QRai0YGfi\n",
            " The disaster tweet is : Advice - Dunns Road (Snowy Valleys LGA) Fire activity is easing across the fireground. If you are in the Tumbarumba area, monit…\n",
            " The disaster tweet is : ⚠️ Update: the freight derailment in a yard at #Hitchin cut the cable controlling a set of points on 1 track through the…\n",
            " The disaster tweet is : A sinkhole in china kill six passengers on a public bus...... BBC who is writing your headlines\n",
            " The disaster tweet is : Mustafa Kassem died yday in a cold Egyptian prison. He was 54. His lawyer said Kassem was diabetic with a heart condition &amp; w…\n",
            " The disaster tweet is : Two lanes have been closed while emergency services deal with the incident https://t.co/gfO0sq865D #m4 #Slough\n",
            " The disaster tweet is : Americans are hostages of the radical Democrat Party and need to wake up before 2020. RT Video: Iran Police Shoot…\n",
            " The disaster tweet is : Hi, since there is an influenza outbreak in kl, and if anyone is suspected with influenza, i hope you guys stay at home,…\n",
            " The disaster tweet is : this storm is violent af. bathong.\n",
            " The disaster tweet is : Terrorists attacked people in Telangana Smaller districts of Bhainsa and Nirmal saw terror mob burned few places and tar…\n",
            " The disaster tweet is : US expels 21 Saudi military cadets after gun attack https://t.co/XstAs8Y8ZT\n",
            " The disaster tweet is : Michael Bednarek will be presenting \"An Interactive Web-Based GIS System to Evaluate Hurricane Inundation Impacts\"… https://t.co/i4EJCNOitH\n",
            " The disaster tweet is : কাশ্মীৰৰ মাছিল ছেক্টৰত হিমস্খলনত ৩ জোৱান ছহীদ, এজন সন্ধানহীন https://t.co/gIm5W8mC1b\n",
            " The disaster tweet is : Trump: 'Doesn't really matter' if Soleimani posed imminent threat https://t.co/nLt1wc41Df https://t.co/GBuvlgyYGT\n",
            " The disaster tweet is : Snow and Avalunch Update (SDMA) 18 people including Women's and children's were killed and 21 other wounded in snow a…\n",
            " The disaster tweet is : Volcanic eruptions have been happening for 100s of million years, so have wild fires, so… https://t.co/e6svHogxWW\n",
            " The disaster tweet is : Phivolcs on #TaalEruption2020: • Taal Volcano still spewing ash • Ash is being blown towards southwest, not Metro Man…\n",
            " The disaster tweet is : New: Diesel fuel spilled in Dunn County train derailment - WQOW. https://t.co/Hg8E4hX3G2\n",
            " The disaster tweet is : Lightning sighted at #TaalVolcano DETAILS: https://t.co/zseuAHyto9 https://t.co/9IBqfCGwh5\n",
            " The disaster tweet is : 8.30am Castlebar - two vehicle collision at the jnctn of Main St &amp; Market St, Parsons Corner. AVOID driving up from… https://t.co/grLsqCarDG\n",
            " The disaster tweet is : US, China cannot sign a long term trade deal and bury the hatchet unless the Trump administration asks Canada to free comp…\n",
            " The disaster tweet is : ROAD TRAFFIC COLLISION Victoria Road Junction with Marathon Road. Road Partially Blocked. Police en route.\n",
            " The disaster tweet is : On January 14, 2020 at about 8:47 AM PCpl Cheryl L Salem PCAD PNCO of Guinsiliban MPS conducted reproduction of nin… https://t.co/LzdR0hd9Zv\n",
            " The disaster tweet is : 14/17:27 EST Severe Thunderstorm Warning for parts of Gulf Country and North West Forecast Districts. https://t.co/Ng10VTK3kg\n",
            " The disaster tweet is : STRETCHER WITH DOUBLE FOLDING Double fold stretcher, With Mild Steel..For more info visit...https://t.co/PKJdJ4MHhq https://t.co/C8OQoKMPjS\n",
            " The disaster tweet is : Many forest fires are caused by Arson. The forest fire has drastically reduced Prime Minister Morrison's approval r… https://t.co/U5zP170B0m\n",
            " The disaster tweet is : Train cars scattered all over the derailment area in Mississauga. #disasters #railroad #raildisaster #derailment… https://t.co/YUVB1wWzCd\n",
            " The disaster tweet is : Borongan City’s contingent prays for recovery from Typhoon Ursula https://t.co/uqRcOvgDEA\n",
            " The disaster tweet is : Homer is driving drunk😱 and has collided with a tongue 👅\n",
            " The disaster tweet is : In a statement, it said \"evidence is highly suggestive that the outbreak is associated with exposu… https://t.co/iEB4LRWiPn\n",
            " The disaster tweet is : 𝗣𝗲𝘁𝗿𝗼𝘁𝗲𝗾 𝗘𝗻𝗲𝗿𝗴𝘆 𝗜𝗻𝗰 What does 𝗖𝗢𝗥𝗧 do? ▫ Patented, innovative, 14-stage process uses solvents &amp; surfactants to liquefy…\n",
            " The disaster tweet is : Demolition has begun on the burned out buildings in #BoundBrook. Slow process. Investigation into how/where it st… https://t.co/myA1JIwQXu\n",
            " The disaster tweet is : Iran Warns Protesters as It Grapples With Unrest Over Plane Crash Video appears to show tear gas, gunshot injuries during…\n",
            " The disaster tweet is : Fatality https://t.co/FF7PdLBh0k\n",
            " The disaster tweet is : Dedma nio sila! Demolition tactics ignore do not engage ! Lets be happy lang for our TS...#Mak…\n",
            " The disaster tweet is : Hi Ally, I'm very sorry about this, we are running a reduced service at the moment due to the freight train derailm…\n",
            " The disaster tweet is : Today, journalist was covering Jessica Yaniv's court appearance in B.C. As she was leaving the courthouse, the…\n",
            " The disaster tweet is : China sinkhole: Six killed as ground swallows bus https://t.co/Y406WduCEB\n",
            " The disaster tweet is : Minnesota niggas will record a video during a blizzard saying “Drive Safe Y’all” while driving 75 miles per hour blasting NB…\n",
            " The disaster tweet is : Grandmother’s prayer closet survives powerful tornado that flattened home, killed many https://t.co/dqvrNrA9VA\n",
            " The disaster tweet is : Significant weather advisory issued (step under thunderstorm warning) for incoming storms. Some small hail and freq… https://t.co/DbHHPfBb6E\n",
            " The disaster tweet is : ROAD CLOSURE: Reiter Rd is closed about 2 miles east of May Creek Rd for a mudslide that is fully blocking the roadway. T…\n",
            " The disaster tweet is : Florida reported 858 deaths related to meth alone during 2017 and 619 in 2018. St. Petersburg and Leesburg led the death…\n",
            " The disaster tweet is : #Sismo M 4.5 SOUTHEAST OF EASTER ISLAND. 14-01-2020 07:31 UTC https://t.co/lQweuzpmE7 #Temblor #CSEM #EMSC… https://t.co/k0lTi1Tjvz\n",
            " The disaster tweet is : West Valley La11898 Sr118 E / I405 N **Trfc Collision-Unkn Inj** https://t.co/xKAfJ4JIkA\n",
            " The disaster tweet is : Telangana: Section 144 has been imposed in Bhainsa from January 13 to 15, after clash erupted between two groups on January 12. Po…\n",
            " The disaster tweet is : The speeding car rammed into a group of people, who were returning after attending a temple festival of Ayyappan Ka… https://t.co/e3bBlaVDDA\n",
            " The disaster tweet is : It was taken down once emergency services arrive and plant workers cleared confusion. Premier officia… https://t.co/FMTPEwexsp\n",
            " The disaster tweet is : CRIMINAL SENTENCING - HOW IT WORKS: 2018: Maximum sentence for assaulting an emergency worker is doubled. 2018-19: R…\n",
            " The disaster tweet is : Philippine authorities are warning that a large, dangerous eruption from the Taal volcano may be imminent after a towe…\n",
            " The disaster tweet is : Diversion Saudi Arabia's first nuclear reactor nearly finished, sparking fears over safeguards… https://t.co/HQfOcvc1Aq\n",
            " The disaster tweet is : Praying for the people and animals of Australia during these horrible wild fires.\n",
            " The disaster tweet is : Emergency crews are responding to an unspecified incident at the Pickering plant. No abnormal radiation reported. https:/…\n",
            " The disaster tweet is : Thousands of residents from Talisay and other towns in Batangas were forced to evacuate because of the Taal Volcano eru…\n",
            " The disaster tweet is : At 9:00pm there are 105 bush and grass fires burning across NSW, with 38 not yet contained. All fires are currently at the Advi…\n",
            " The disaster tweet is : Photos taken at Iraq base where US troops are stationed show scale of damage following Iranian airstrikes American… https://t.co/IvZvMwGt6V\n",
            " The disaster tweet is : M2.4 quake causing weak shaking near Culverden https://t.co/IYjdhcZWjZ\n",
            " The disaster tweet is : Highway closed after major train derailment in western Wisconsin. https://t.co/jUZtaDZlXk\n",
            " The disaster tweet is : Bushfire smoke plume is expected to lap the globe, NASA says. \"In the case of these fires — they are so huge, they are…\n",
            " The disaster tweet is : Another quake: A 4.0 magnitude earthquake occurred 6km NW of Agoncillo (Batangas) at 11:39 PM. It was felt in Tagaytay…\n",
            " The disaster tweet is : This was the actual report about a Nuclear Emergency warning sent out in error From Pickering Nuclear Power plant to Re…\n",
            " The disaster tweet is : #USA: Given the vulnerabilities of #PuertoRico’s electric grid after Hurricane Maria, the EDF says there is an urge… https://t.co/eCV6xOjULQ\n",
            " The disaster tweet is : Mass murderer.\n",
            " The disaster tweet is : Rescuers cry when they hear the Koalas calling for help. Please my God have mercy on them. Pray for Australia 🙏 #PrayForA…\n",
            " The disaster tweet is : The largest bomb in the 3-4 decades to explode in #Stockholm #Sweden detonated tonight in the city’s richest area #Österma…\n",
            " The disaster tweet is : RT NWSWakefieldVA \"Special Weather Statement: A Thunderstorm With Heavy Rain Will Affect Central Pasquotank.… https://t.co/84WqZBAVW1\n",
            " The disaster tweet is : It’s not just Australia — Indonesia is facing its own climate disaster. The sinking capital of Jakarta and the surrounding ar…\n",
            " The disaster tweet is : Cudgewa in the epicentre of the fires near Corryong, all pasture paddocks burnt , houses burnt , stock losses , cat… https://t.co/Q7Tcsn6jyR\n",
            " The disaster tweet is : The Britain had tendered apologies to other nations including Kenya but India is totally ignored Israel has not yet forgot…\n",
            " The disaster tweet is : 3.1 magnitude #earthquake. 14 km from #Volcano, HI, United States https://t.co/kszc5iyIVl\n",
            " The disaster tweet is : Report recieved of a 9 vehicle RTC on M66 between jct 2 and 3, No reports of any injuries, but 2 lanes blocked …\n",
            " The disaster tweet is : Boudreaux loses his crawfish farm to the Gulf Oil Spill. Take a peek inside to see how he gets revenge #thriller… https://t.co/FA7rlXuOaH\n",
            " The disaster tweet is : Emergency services have been called to an 'industrial incident' at Grangemouth chemical plant. It's understood one per…\n",
            " The disaster tweet is : Wow. They just disenrolled 21 Saudi cadets from US Military training because they made pro-jihadi posts and had child porn…\n",
            " The disaster tweet is : Arsonist sets cars ablaze at dealership https://t.co/0gL7NUCPlb https://t.co/u1CcBhOWh9\n",
            " The disaster tweet is : In pairs, our workshop participants designed &amp; coded a disaster detector system! 🚨 This pair designed a rural fire… https://t.co/tQFhDH1fys\n",
            " The disaster tweet is : A freight train has experienced a low speed derailment at #Hitchin which is affecting services on betwee… https://t.co/i3iOPnkW45\n",
            " The disaster tweet is : \"7 grams in the blunt almost drowned in her pussy so I swam to her butt\" https://t.co/kFQi8yGZEt\n",
            " The disaster tweet is : UPDATE: Rescuers are already at Brgy. Mahabang Dahilig. There are 40 dogs there for rescue and meron sila tatlong van. Please…\n",
            " The disaster tweet is : An investigation is underway following the discovery of body parts in a bag outside houses in Coolock https://t.co/IMJD7vHP…\n",
            " The disaster tweet is : Out of five soldiers trapped under the avalanche, one was rescued after the Army launched rescue operations. https://t.c…\n",
            " The disaster tweet is : Chinese woman with new coronavirus quarantined in Thailand https://t.co/BjheT15EOv https://t.co/pj7gRFUDK9\n",
            " The disaster tweet is : Telangana experienced communal violence last night - at the stroke of midnight almost 500 Muslims attacked Hindus and the…\n",
            " The disaster tweet is : This earlier collision N'bound between J9 Red Cow and J7 Lucan has now been cleared and all lanes have reopened.… https://t.co/6NjRd5MOeG\n",
            " The disaster tweet is : Ukraine deliberately issued statement after Iran plane crash suggesting engine failure, despite suspecting attack \"If…\n",
            " The disaster tweet is : What has it come to? We’ve recently had fuel stolen from ambulance vehicles and damage to a staff car whilst on an ambulanc…\n",
            " The disaster tweet is : The response to Australia’s fire crisis has some similarity to what engulfed America when Trump was elected. People… https://t.co/5flFcxUdIs\n",
            " The disaster tweet is : A M1.7 earthquake has been reported by the GeoNetNZ for 15 km north of Turangi. Link: https://t.co/QA7vx03M6x\n",
            " The disaster tweet is : Congress demands Home Minister Amit Shah’s statement on Devinder Singh, asks What is DSP's connection to Parliament attack &amp;…\n",
            " The disaster tweet is : Taal Volcano in the Philippines has sent an eruption plume a kilometer above the crater, the Philippine Institute o… https://t.co/kyl1aSs1DQ\n",
            " The disaster tweet is : The final AP poll is so screwy. Apparently, 1) 12-2 Boise State (23) didn't beat 11-2 Air Force (22). Florida (6) lost to L…\n",
            " The disaster tweet is : Communal violence in Bhainsa, Telangana. \"Stones were pelted on Muslims' houses and some houses and vehicles were set ablaze…\n",
            " The disaster tweet is : Simple. The Arabs rejected out of hand the 1947 UN Partition Plan and instead waged a War… https://t.co/Gauqyo8bW2\n",
            " The disaster tweet is : Violence targeting university students has become a reocurring phenomenon. Rioting, murders &amp; selective attacks of… https://t.co/lxFT15u4k2\n",
            " The disaster tweet is : #childsafety | Local flu death of boy is one of two pediatric deaths in NYS this year https://t.co/2pWDm1TbsG https://t.co/WXJWs35Z1h\n",
            " The disaster tweet is : Five soldiers were trapped under the #avalanche, efforts are on to trace one missing soldier https://t.co/qPWN5ug5w7 #Machil\n",
            " The disaster tweet is : Students protest at JNU &amp; Jamia* MEDIA: ShutDown JNU, these people are threat to democracy, We need strict law agnst them, A…\n",
            " The disaster tweet is : Nigerien president sacks army chief, others after terrorist attack on military base https://t.co/lhm6LdiE7x\n",
            " The disaster tweet is : Blanket secrecy' surrounds Australian weapons sales to countries accused of war crimes https://t.co/ko6nqZs61d\n",
            " The disaster tweet is : VENICE RUNS DRY: Gondolas stranded in mud just two months after severe flooding #venice #gondolas #flooding #beached #…\n",
            " The disaster tweet is : Violence, arson across West Bengal as strikers try to enforce bandh; 55 arrested in Kolkata - Times of India… https://t.co/bIMdUMDstT\n",
            " The disaster tweet is : A other Hard hit https://t.co/x3e2mf6DKo\n",
            " The disaster tweet is : #Italy, metro train collision in #Naples: driver in shock and 9 people slightly injured.\n",
            " The disaster tweet is : The abductors made several of their hostages to contact their parents and let them know that they were alive. Meanw… https://t.co/OqVymoVoRv\n",
            " The disaster tweet is : Road dangers from sinkholes that result in fatalities... https://t.co/HLwW1qsKe3\n",
            " The disaster tweet is : Buhari was all about a section of the North regaining the rulership of the country &amp; establishing a total dominance.…\n",
            " The disaster tweet is : Knowing the current situation in the places affected by the eruption of Taal Volcano, many fur babies have been lef… https://t.co/E0UpndyAUn\n",
            " The disaster tweet is : Wildfire smoke to circle planet and return to Australia, Nasa says https://t.co/iTHv7pYH1I https://t.co/exx57uZ1Ol\n",
            " The disaster tweet is : No one was injured after a fire on the 6th floor of the apartment buildings on N. Elizabeth St. in Lima. https://t.co/1tP3OuqyQe\n",
            " The disaster tweet is : Dear Noah and other Aus Open players. I am a professional firefighter in Melbourne. I know a little bit about the health haz…\n",
            " The disaster tweet is : Gunmen ‘open fire on protesters in Iran’ in videos that show blood on the streets of Tehran #Iran #HumanRights #IranProte…\n",
            " The disaster tweet is : Martin Tebbutt's farm in Bilpin was completely charred when the Gospers Mountain blaze ripped through the area on Dec…\n",
            " The disaster tweet is : Disease outbreak news from the WHO: https://t.co/T5Z1xnXneq\n",
            " The disaster tweet is : Sudden, blowing snowfall pummeled much of British Columbia on Sunday, knocking out power to thousands and wreaking havoc on…\n",
            " The disaster tweet is : ... en masse throughout the following nights of rioting. Lesbians again were leaders in the newly emerg…\n",
            " The disaster tweet is : //WOTV NEWS//: 2 teen hunters charged with animal cruelty after attack on wounded deer... https://t.co/OOrvsBycl0\n",
            " The disaster tweet is : The forest fire inspector in the conservatory.\n",
            " The disaster tweet is : Schumer Renews Call For Suicide Bomb Detectors At Penn Station https://t.co/M0jOwvbtX4 https://t.co/7tm9laW8Ms\n",
            " The disaster tweet is : Low traffic neighbourhoods - way ahead to save our local streets from the blight of pollution and noise. #Safer st… https://t.co/NVNzHc8AfD\n",
            " The disaster tweet is : First Sydney then Canberra, now Melbourne - Melbourne's hazardous #AirPollution quality worst in the world overnight due to #A…\n",
            " The disaster tweet is : Tunisian fishermen driven to perilous depths by mystery sea sponge blight https://t.co/iM6VKIGqsL\n",
            " The disaster tweet is : 61yo man is first fatality in mystery virus outbreak in #China leads; disease spreads to Thailand (aiyah)😷😷https://t.co/557…\n",
            " The disaster tweet is : Modi Shah's Gundas set fire to truck loaded with plastic chairs in Mangaluru, that was parked in the ground after public…\n",
            " The disaster tweet is : A terrorist fires upon American heroes. His iPhones are lawfully seized. A federal court authorizes searches of the data o…\n",
            " The disaster tweet is : Tesla hacking competition offers $1 million and free car if someone can hijack Model 3 #hacking #cybersecurity… https://t.co/eSDsoouW5Y\n",
            " The disaster tweet is : Tornado, storms strike North and South Carolina https://t.co/baoNNXYwLx\n",
            " The disaster tweet is : We have reports of an Oil Spill on Mount Crosby Rd northbound in the left lane before Roundabout at Warrego Hwy,… https://t.co/zEN0OFGYBn\n",
            " The disaster tweet is : after bjp came to power.. no bombings.. aap chronology samjho buddhu .. firse congress power me… https://t.co/EMlxSiASMC\n",
            " The disaster tweet is : Two young men were charged for allegedly stealing the car with the infant still inside, and the child's parents wer… https://t.co/XWpkCWVX6a\n",
            " The disaster tweet is : #TaalVolcano Relief Operations DSWD USec Gudmalin turns over 1,338 family food packs to the LGU of Balayan, Batang… https://t.co/ksteerirhL\n",
            " The disaster tweet is : Border Security Force: Last evening at 8:30 pm, an avalanche hit a BSF deployment in Naugam sector along LoC. A sea… https://t.co/s6gPMMVWzP\n",
            " The disaster tweet is : This freight train was due into Hitchin at 05:50 this morning and it was then that the dera… https://t.co/pCOEWY0hm8\n",
            " The disaster tweet is : A toddler was left scarred for life and traumatised after being bitten by a German Shepherd on the face… https://t.co/r6fWurD8An\n",
            " The disaster tweet is : Snowstorm slams Kitsap County, knocking out power to thousands https://t.co/Cg62kSllCT\n",
            " The disaster tweet is : Today Pak Army soldiers will b thanking to Indian Army.If the Indian Army did not carry out deadly strikes in Neelum Valle…\n",
            " The disaster tweet is : Isolated thunderstorm accompanied with hail/lightning also likely over Punjab, Haryana, Chandigarh, Rajasthan, Uttar Prad…\n",
            " The disaster tweet is : Six people have died and four more are missing https://t.co/TVr74mCwgP\n",
            " The disaster tweet is : We continue to update our 30-day aftershock forecast scenarios for #PuertoRico. Forecasts are posted in both English https://t.co…\n",
            " The disaster tweet is : Police: 60% motorcycle accident fatalities due to head injuries https://t.co/2pQ5xfb8EB\n",
            " The disaster tweet is : • 29 injuries to 16 players. And that was only until Jan. 2 more injuries to Benzema &amp; Bale. • Squad void of motivation…\n",
            " The disaster tweet is : Avalanche strikes #NeelumValley &amp; it's been 10 hours, our people couldnt make a headlines in #Pakistanimedia. Laiba… https://t.co/gPZVvMpud8\n",
            " The disaster tweet is : Venice canals almost dry, two months after severe floods https://t.co/Qt0Il9semQ\n",
            " The disaster tweet is : Blue Mountains resident fought for permission to hazard reduction burn for two and a half years... https://t.co/hkFb36…\n",
            " The disaster tweet is : A January heat wave engulfed the eastern half of the USA, toppling records https://t.co/EorCaGeQY7\n",
            " The disaster tweet is : Schools should brace for five years of upheaval from a triumphant party with Gove at its heart | Melissa Benn https:/…\n",
            " The disaster tweet is : WEATHER ALERT: Severe Thunderstorm Warning including Clinton NC, Mount Olive NC, Brogden NC until 3:00 PM EST https://t.co/GSbHufO8iD\n",
            " The disaster tweet is : Tsunami Puigdemont https://t.co/PungByhqNo via\n",
            " The disaster tweet is : Exposed #derailed\n",
            " The disaster tweet is : 1️⃣4️⃣9️⃣ AUSTRALIA URGES MASS EVACUATION 🔥 Australia urging some 240,000 citizens to evacuate. 🔥 Seems “bushfires” may b…\n",
            " The disaster tweet is : Hi there, I'm very sorry about this. We are running a reduced service this morning to the freight tr…\n",
            " The disaster tweet is : #sooke basin looks more like the open ocean today ! #windstorm #BCStorm https://t.co/hzAZaMOPu9\n",
            " The disaster tweet is : #RT PeterStefanovi2: RT SuptAndyCox: Now 1 year since the last fatal collision on #A12 #London. During this time we… https://t.co/UQQtuTQ7yt\n",
            " The disaster tweet is : WATCH: Drone video of tornado damage at high school https://t.co/kOcqvPG7Le\n",
            " The disaster tweet is : Death toll in Pakistan mosque suicide bombing rises to 15 https://t.co/yobiyvaa1x\n",
            " The disaster tweet is : While holidaying near the Caribbean island of St.Barts, Titanic actor #LeonardoDiCaprio helped save a drowning man… https://t.co/hmuiKbGEyj\n",
            " The disaster tweet is : Schumer Renews Call For Suicide Bomb Detectors At Penn Station https://t.co/ZiFmAhfpZu https://t.co/9SpZddTJwv\n",
            " The disaster tweet is : Derailed in the depot! Oops!\n",
            " The disaster tweet is : Ashfall can do damage to electronic equipment. Damaged electronic equipment can start a fire. I hope this helps. https://t.c…\n",
            " The disaster tweet is : TICKETS ON SALE!!!!!!!!!! - Aftershock https://t.co/kQHMzbgmvk #nowplaying #k4hdradio\n",
            " The disaster tweet is : JUST IN: An earthquake was felt in parts of CALABARZON and Metro Manila. Details to follow.\n",
            " The disaster tweet is : CUHK professor Fang Kecheng revisits the real lessons of the disastrous 1987 Daxing’anling Wildfire, after a shameless…\n",
            " The disaster tweet is : Wind Turbines chop up and Electric Wires electrocute millions of federally protected birds a… https://t.co/B33ovrkDB2\n",
            " The disaster tweet is : Update: Phreatic explosion of Taal Volcano is still ongoing as of 4:30 PM https://t.co/gvn7Z806Wy\n",
            " The disaster tweet is : We have been stuck at Baldock for over 20 minutes now due to the derailment at Hitchin and our driver doe… https://t.co/xkRizi923Q\n",
            " The disaster tweet is : The view from the farm just now - 16 boats in the bay sheltering from Storm Brendan! https://t.co/p7bCZaITFe\n",
            " The disaster tweet is : Stone throwing that killed Palestinian mother of 8 recognized as terror attack https://t.co/Gjz3cQC7Rl\n",
            " The disaster tweet is : M 4.5, Southeast of Easter Island #earthquake #Sismo https://t.co/D4TqNwuMgU\n",
            " The disaster tweet is : Description: KamAZ 55102-Power: 300 HP; – Speed: 85 km / h; – fuel tank Capacity: 400 l.; – Cost: 74,100€; – body C… https://t.co/UKJ8HTqa35\n",
            " The disaster tweet is : FT Ministry is expected to call for RFP this year in reconstructing Sentul wet market, which was razed in fire duri… https://t.co/fqop8vJsyZ\n",
            " The disaster tweet is : Tesla hacking competition: $1 million and a free car if someone can hijack Model 3 https://t.co/erk4oyJ65o\n",
            " The disaster tweet is : People of neelum valley suffering from catastrophic situation.may allah save the people of valley. #NeelumNeedPakArmy #DGIS…\n",
            " The disaster tweet is : #StormBrendan There is a risk of coastal flooding/storm damage including wave overtopping, inundation &amp; erosion of sof…\n",
            " The disaster tweet is : Your mother is drowning in the ocean. Nearby is a box containing the cure for cancer. You only have time to save one fro…\n",
            " The disaster tweet is : Freight train derailed ahead of you. They doing checks\n",
            " The disaster tweet is : 9-Put curfew if required.\n",
            " The disaster tweet is : 🌋Volcano erupts in the #Philippines #TaalEruption2020🌋 Alert-level 4 raised over Taal Volcano. (5 highest) Estimated 450…\n",
            " The disaster tweet is : #ChurchInAction Brothers &amp; Sisters, let us HELP those families displaced by the eruption of Taal Volcano. Please ca…\n",
            " The disaster tweet is : Parents and carers are faced with the responsibility of caring for a traumatised young person, often in cri… https://t.co/tOgsihZeFU\n",
            " The disaster tweet is : heartbreaking: Aged mother and father walk miles to reach to the hospital in Faryab where his son used to be an ambulance…\n",
            " The disaster tweet is : Severe storm, flooding and heavy snowfall strike Hawaii - 22 inches of rain in 24 hours, snowdrifts at least 4 feet deep h…\n",
            " The disaster tweet is : Taal volcano news – live: Hundreds of thousands urged to flee possible eruption as 'intense seismic activity' rocks Philippines…\n",
            " The disaster tweet is : Today’s SCMP backpage: 11 million hectares have been razed by the Australian 🔥 #bushfiresAustralia #bushfirecrisis… https://t.co/5QHFzmIb6o\n",
            " The disaster tweet is : #ThisDay 2014 - Up to 5 people feared dead as devastating bush-fires sweep through Perth, Australia. https://t.co/ylvPlqDpdg\n",
            " The disaster tweet is : #DUBLIN Collision just cleared from the N7 inbound; long delays remain in the area. More here: https://t.co/PSzIBsvOzE\n",
            " The disaster tweet is : A matter of when, not if, cattle prices will rise because of #drought. #abc730 https://t.co/KYXSBtOP1A\n",
            " The disaster tweet is : On Sunday night, NJ Transit suspended the Raritan Valley line and residents were being told to stay away as crews b… https://t.co/ZkQCnUCHZN\n",
            " The disaster tweet is : Images showing the havoc caused by the #Cameroon military as they torched houses in #Oku.The shameless military is… https://t.co/gIwZCH533D\n",
            " The disaster tweet is : BESTSELLER #4: PlayStation Network Card 10,00Â â¬ - 100,00Â â¬ https://t.co/atjCVMtxzy\n",
            " The disaster tweet is : Grandmother’s prayer closet survives powerful tornado that flattened home, killed many https://t.co/YUTYw6CpQa\n",
            " The disaster tweet is : WEATHER ALERT: Severe Thunderstorm Warning including Warsaw NC, La Grange NC, Faison NC until 3:00 PM EST https://t.co/j4ovmQsvuz\n",
            " The disaster tweet is : I've been told by my friend who's working at kpj, all beds are full for now. And yes, it is because of the influenza outbr…\n",
            " The disaster tweet is : 6 people found dead after sinkhole swallows public bus in Xining https://t.co/dQvLSbeGYR\n",
            " The disaster tweet is : Also important to discern between structural barriers and failure. And to consider the working conditions people ar… https://t.co/uEvgefDxqI\n",
            " The disaster tweet is : As seen by yesterday's #SNPP #OMPS aerosol index the #AustraliaFires smoke is now south of western Australia (black circl…\n",
            " The disaster tweet is : BREAKING: At least six people dead as a sinkhole swallows a bus in China\n",
            " The disaster tweet is : “Melbourne's air quality 'worst in the world' as bushfires continue to burn across Victoria | Australia news | The… https://t.co/23tuFrLWXJ\n",
            " The disaster tweet is : Her autopsy found that she was shot more than 20 times, and had both her legs broken indicating severe physical assault, l…\n",
            " The disaster tweet is : \"Mudslide in the Ein Al-Loza neighborhood of Silwan, south of Al-Aqsa Mosque, without intervention of the Jerusalem Municip…\n",
            " The disaster tweet is : Ballkid has collapsed outside of the court. Both Kavcic &amp; Clarke went over gave them drinks, checked on the welfare.…\n",
            " The disaster tweet is : Few days back there were Intel reports of terrorist attack on Modi Ji's election rallies. Today J&amp;K DSP Davinder Singh was ca…\n",
            " The disaster tweet is : Our country has been devastated by bushfires &amp; we need your help! 🔥 So that's why we're proud to announce The Down-Unde…\n",
            " The disaster tweet is : A 21-year-old British tourist was killed over the weekend after falling off a cliff in Australia while taking a selfie. S…\n",
            " The disaster tweet is : In an act of total conflagration by the tribal terrorists #BIR of dictator #PaulBiya at Ndu #SouthernCameroons 9.1.2020 dozens…\n",
            " The disaster tweet is : Keystone Pipeline leaks 383,000 gallons of oil in second big spill over two years https://t.co/v3npNfe5ix\n",
            " The disaster tweet is : Chemical Hazard - Advice for Cobram. For more info: https://t.co/S4XhnXRscO #vichazmat\n",
            " The disaster tweet is : Structural failure at the Goody’s in Bremen, Georgia caused by yesterday’s squall line. Collapse resulted due to a com…\n",
            " The disaster tweet is : Carrots to the rescue for animals in wildfire-ravaged forests in New South Wales https://t.co/bGSNkTwqwn\n",
            " The disaster tweet is : DEV - Severe Thunderstorm Warning until 1/11 8:45AM CST for Lincoln, Copiah, Franklin, Jefferson https://t.co/CO6ONCgolJ\n",
            " The disaster tweet is : Tawny owl rescued from wood burner by https://t.co/ipd051WyCv https://t.co/xaQTm8od1B\n",
            " The disaster tweet is : First death from China mystery illness outbreak - The Guardian https://t.co/nxttI0VMOl https://t.co/ls5wdMtYRv\n",
            " The disaster tweet is : TORNADO WARNING with supercell yesterday south of Shreveport, LA https://t.co/YPL71TlwUk https://t.co/ApMjbtnAuE\n",
            " The disaster tweet is : Iran says some people arrested for their role in Ukrainian plane crash https://t.co/bXTQj2pvIx\n",
            " The disaster tweet is : More heavy rain and strong winds moving up from SW. Across our patch this afternoon and evening. Another 10-20mm of rai…\n",
            " The disaster tweet is : Tens of thousands were evacuated and tremors were felt in nearby villages amid an eruption of the Philippines’s second-most-ac…\n",
            " The disaster tweet is : FROM NWS BLACKSBURG: NWSBlacksburg: Severe Thunderstorm Warning including Keysville VA, Charlotte Court House VA, D… https://t.co/dIoL9WEBFI\n",
            " The disaster tweet is : #TheWorldDetective☢ In #France, the riot police not only attack the workers on strike, they also attack those reporting…\n",
            " The disaster tweet is : ECG pole electrocute young man at Kpando https://t.co/V0SRdTrmgc https://t.co/R4K3BGANXs\n",
            " The disaster tweet is : A total of 24 road fatalities were reported during the festive season by the Ekurhuleni Metro Police Department bet… https://t.co/V0SM6rXvsV\n",
            " The disaster tweet is : A 1.5-million-acre “megafire” is threatening Australia. Indonesia is dealing with deadly floods. We cannot keep avoiding…\n",
            " The disaster tweet is : Real Agenda of Kuala Lumpur Islamic Summit Plans Derailed by Saudi Arabia. https://t.co/qS6WZOZQgN\n",
            " The disaster tweet is : Love and support to #AncientRoots #Israel #Herbal #Medicine Conference, Feb 2020 in the #HolyLand https://t.co/pjF4GlKb1q\n",
            " The disaster tweet is : Jake Corway wrecked while running 14th at IRP.\n",
            " The disaster tweet is : If you are interested, you may register using the link below. Link for Rescuers: https://t.co/MySjpMANCT You wil… https://t.co/9QePnjFH6b\n",
            " The disaster tweet is : #Sêmalka: Yesterday evening, a new batch of 120 displaced persons, coming from Burdah Rush camp in the region of Başûrê…\n",
            " The disaster tweet is : It is 16 deg C at mid day here. Send heat wave from Kerala.\n",
            " The disaster tweet is : Severe storms sweeping across southern portions of the U.S. and up into the Midwest were blamed Saturday in the deaths of at l…\n",
            " The disaster tweet is : — comply with the directive and mounted up, racking their pole-arms and melee weapons and readying… https://t.co/w0XULaU1cJ\n",
            " The disaster tweet is : Massive fire burning in apartment building under construction, neighboring buildings in New Jersey https://t.co/96UeW5Jpno\n",
            " The disaster tweet is : Two Belgian soldiers currently serving in #Mali were injured when their vehicle Dingo II (MPPV) drove over an Improvise…\n",
            " The disaster tweet is : CFA Chemical Hazard Advice: 14:06 For: Cobram, https://t.co/iT10DqmBJu #vicAlert\n",
            " The disaster tweet is : 42 min.ago #earthquake 3.6 has hit Canas Barrio (Ponce), Puerto Rico, 3.7mi, 4:07 AM AST (RSPR)… https://t.co/DfgMZAmpGX\n",
            " The disaster tweet is : Agriculture Minister has ordered subordinates to come up with measures to protect consumers from the prices of farm… https://t.co/WbX74RDF3k\n",
            " The disaster tweet is : …The collateral damage of this irresponsible, dangerous, ill-conceived behavior? 63 Canadians needlessly lost their liv…\n",
            " The disaster tweet is : Indonesia: Jakarta’s flood costs will increase by up to 400% by 2050, research shows - In a recently published study, my…\n",
            " The disaster tweet is : More then 58 people dead in #NeelumValley in last two days due to heavy snowfall and glaciers More death casualties expe…\n",
            " The disaster tweet is : US military base in Iraq a few days after Iran missile attack #Iranattack https://t.co/x2Q8QiXKVc via\n",
            " The disaster tweet is : Sullis held Hindu women down while their Barbaric men dishonored them during Naokhali riot Sit down sulli.\n",
            " The disaster tweet is : A pretty spectacular animation of a rapidly intensifying extra-tropical cyclone #Brendan over the North Atlantic today…\n",
            " The disaster tweet is : Six people have died and four more are missing https://t.co/TVr74mCwgP\n",
            " The disaster tweet is : India's Ruling Party Lawmaker Threatens to Shoot Protesters https://t.co/8atDXFnFG5\n",
            " The disaster tweet is : The murdering scum IRA who blew up innocent men women &amp; children got off Scot free under BLIAR”s (… https://t.co/IyqhTwzitC\n",
            " The disaster tweet is : Crime Stoppers ask for public's help in locating fatal hit-and-run suspect https://t.co/DCOePqaxuO\n",
            " The disaster tweet is : Human body parts have been found in a bag on a road in Dublin https://t.co/zrJryNq25O https://t.co/Qn5LpKN2od\n",
            " The disaster tweet is : The collapse of the Twin Towers and 7 World Trade Center were the result of controlled demolitions rather than structu…\n",
            " The disaster tweet is : 14/1/1942 This day 1942 British tug Mercia mined/sunk English Channel lost all hands on board Anyone have a family… https://t.co/RIuaobKQz2\n",
            " The disaster tweet is : KwaZulu-Natal Helicopter Emergency Medical Services: A good morning from the HEMS crew of Netcare 5 who are current… https://t.co/tqCuaIpwt7\n",
            " The disaster tweet is : Huge explosion and fire in a chemical plant in Zhuhai today. The fire was not out by 3pm, People’s Daily reported, citing a vi…\n",
            " The disaster tweet is : Police have arrested six teenagers, including four 14-year-olds, over the vicious robbery in Melbourne's west last night. https…\n",
            " The disaster tweet is : “A private person may arrest a suspect in Nigeria who in his presence commits an offence, or whom he reasonably suspects…\n",
            " The disaster tweet is : You may be unaware that CND is currently in mourning. 57 Canadians were downed in an airplane by accident in Iran. Flag…\n",
            " The disaster tweet is : Once the fires are out, water will emerge as the next mismanaged catastrophe. Catchment stream flows central north we…\n",
            " The disaster tweet is : Venice canals almost dry, two months after severe floods - https://t.co/5XXdyMnecU #GoogleAlerts\n",
            " The disaster tweet is : Lightning is hotter than the surface of the sun\n",
            " The disaster tweet is : \"Mudslide in the Ein Al-Loza neighborhood of Silwan, south of Al-Aqsa Mosque, without intervention of the Jerusalem… https://t.co/ubqXVNaO5J\n",
            " The disaster tweet is : Flood waters 💦 and standing waters pose various risks, including infectious diseases, chemical hazards, and injurie… https://t.co/YhlulOWKjo\n",
            " The disaster tweet is : Good morning, the service is delayed by a derailed train, apologies for the inconvenience caused ^D\n",
            " The disaster tweet is : Several hundred homes in Cirebon inundated https://t.co/zkwRmVMg4A\n",
            " The disaster tweet is : ISIS strap suicide vests to PUPPIES in horror footage of sick front line bomb tactic https://t.co/P1j7jge3zF\n",
            " The disaster tweet is : A freight train has had a low-speed derailment in the Hitchin area - off our route on the line to Edinburgh- and it… https://t.co/mXdPuQpQyu\n",
            " The disaster tweet is : At least six dead as huge sinkhole swallows bus and pedestrians https://t.co/cGtLQPNQdd https://t.co/EclNHcspq6\n",
            " The disaster tweet is : Chinese woman with mystery virus quarantined in Thailand https://t.co/j2tk276Fzt https://t.co/Q7hyPFgJeI\n",
            " The disaster tweet is : LOOK: Residents had gone back to volcano island to rescue horses that survived the thick ashfall. | 📷 Maricar Cinco/PDI…\n",
            " The disaster tweet is : Iran Hit By Sandstorm &amp; Earthquake As They Plan To Attack Israel! https://t.co/EJpq7BdxOZ\n",
            " The disaster tweet is : With arrival of #StormBrendan to East coast bringing S/SW winds up to violent Storm Force 11, together with high Sp… https://t.co/8llRV8PECV\n",
            " The disaster tweet is : British tourist Madalyn Davis has died in a fall from a popular tourist spot in Sydney's eastern suburbs. #7NEWS https:…\n",
            " The disaster tweet is : Saddened by the martyrdom of soldiers because of avalanche in Kashmir. Tribute to the martyred soldiers. Prayer for quick…\n",
            " The disaster tweet is : Islamic State have claimed responsibility for a suicide bombing in a Pakistan mosque which killed 15 people. https://t.co/…\n",
            " The disaster tweet is : DEV - Severe Thunderstorm Warning until 1/11 8:30AM CST for Ohio, Logan, Butler https://t.co/B7Pad2wk8x\n",
            " The disaster tweet is : Gauteng Helicopter Emergency Medical Services: Netcare 8 a specialised helicopter ambulance has been activated for… https://t.co/xFgFmxwazh\n",
            " The disaster tweet is : Shortly after 10 pm, local youths reported finding a bag containing human limbs outside houses at the junction of M… https://t.co/1UZElPtXdW\n",
            " The disaster tweet is : Video About Australian Bush Fires Has Been Up For A While! Give It Some Love! 💗🙏 #fightthefires https://t.co/bEUByX129H\n",
            " The disaster tweet is : The body of a 10-year old girl who was reported missing from their Kayole home, Nairobi in September last year was yest…\n",
            " The disaster tweet is : #Yemen Article/Video April 1, 2019 The US backed Saudi Coalition have been bombing and starving civilian in Yemen… https://t.co/0ST5oTz2cI\n",
            " The disaster tweet is : Hi , A737 south at Linwood cut off just passed large debris in middle of carriageway. A box of some k…\n",
            " The disaster tweet is : 105 is the number to call if you have a power cut. Did you know you can also register for WPD's severe weather bulletins? Regist…\n",
            " The disaster tweet is : Hurricane Recovery for Forest and Conservation Nurseries | via https://t.co/L008wXTTjL #agchat\n",
            " The disaster tweet is : March 22 I will commemorate the Great Perth hailstorm at 4PM the time when the storm hit us causing billions…\n",
            " The disaster tweet is : #A303 Eastbound between #Chicklade and #Wylye, there is a vehicle collision and fluid spillage. Contractors en route to…\n",
            " The disaster tweet is : *violent* windstorm is now underway across the western Scotland! The higher elevations are experiencing 180-200 km/h =…\n",
            " The disaster tweet is : Isolated thunderstorm accompanied with hail/lightning also likely over Punjab, Haryana, Chandigarh, Rajasthan, Utta… https://t.co/4Uv0nHHgSO\n",
            " The disaster tweet is : Using thermal technology, Giles Price photographs the aftermath of the Fukushima nuclear disaster https://t.co/ZsIwq4pjVk\n",
            " The disaster tweet is : The yellow/green liquid is probably pepper spray. It's acidic which is causing the ch… https://t.co/AOC81aMBxC\n",
            " The disaster tweet is : The air rating in Melbourne today is +500 ppm in carcinogens from the smoke. The government is telling people…\n",
            " The disaster tweet is : #Breaking | Poor visibility leads to an accident in Vellore. Vehicle chain collision leaves 1 dead. TIMES NOW's Shilpa with…\n",
            " The disaster tweet is : Lethal weapon\n",
            " The disaster tweet is : Genocide and bioterrorism\n",
            " The disaster tweet is : I became lost in a Himalayan blizzard at 4000 meters and was saved by a horse. https://t.co/DGP7RNeiv6\n",
            " The disaster tweet is : 3/3 Angelina said she was in Ethiopia to discuss refugees and to explore the opportunities to work on women and chi… https://t.co/Gvfgxlo6Rj\n",
            " The disaster tweet is : Pipeline Fights Class Certification in California Oil Spill Suit https://t.co/GaFsXlXEBx\n",
            " The disaster tweet is : At least 11 people were killed and 12 others wounded in rain and snow-related incidents in two districts of Azad Ja… https://t.co/Mfk1h2WwAs\n",
            " The disaster tweet is : TESS dates an ancient collision with our galaxy\n",
            " The disaster tweet is : SEVERE WEATHER OUTLOOK rest of the night Get Radar maps at https://t.co/CzaAX16Vwa #wx #news #weather #hail #winds…\n",
            " The disaster tweet is : Potato late blight in Europe: The hard science https://t.co/Fh8hMgcU49 https://t.co/5Y06KWGeod\n",
            " The disaster tweet is : Rain and high-elevation snow showers can continue across northern Scotland on Wednesday; otherwise, a brief break in the p…\n",
            " The disaster tweet is : “Morrison knew a catastrophic fire season was on its way. The Home Affairs Department had risk reduction and mitigation s…\n",
            " The disaster tweet is : Philippines' Taal volcano eruption spews lava and coats Manila with ash https://t.co/acHx0Lo7oE https://t.co/W7JFF385hT\n",
            " The disaster tweet is : Germany's Foreign Minister Heiko Maas says 'It must be assumed the airplane crash in Iran was a terrible accident.' https://…\n",
            " The disaster tweet is : Staff at Mogo Zoo on the NSW South Coast saved the property, fighting fires burning at the zoo. These gorgeous gibbons were…\n",
            " The disaster tweet is : Important Notice: The Global Warming Apocalypse, Scheduled For 2020 Has Been Postponed #memes #politics https://t.co/IgTZxAhZaG\n",
            " The disaster tweet is : French cameroun set houses ablaze in Ndu and roasted two young boys in their homes in #targeted killings in a #GenocideInSou…\n",
            " The disaster tweet is : The government had been warned six hours before missile attacks against military bases Correspondent Rasmus Tantholdt h…\n",
            " The disaster tweet is : A young woman was killed in a fire that engulfed at least one suburban Phoenix apartment early this morning. https://t.co/hoaneu62xW\n",
            " The disaster tweet is : ''They get drowned mostly. They get caught on a longline hook and get drowned,\" https://t.co/cGsC0FzgOY #bycatch\n",
            " The disaster tweet is : Hi Kevin, I'm very sorry about this. A freight train has derailed which is causing some delays to ser… https://t.co/KmY2TZEKza\n",
            " The disaster tweet is : Final assembly of one of our ScenePro CI 200 TS collision investigation data acquisition systems before shipping to the Aut…\n",
            " The disaster tweet is : Eight migrant children drown off Turkey https://t.co/sCr9JSB9g2\n",
            " The disaster tweet is : Delays of up to 60 minutes and some #cancellations on #Thameslink between #Stevenage and Cambridge, and between Stevena…\n",
            " The disaster tweet is : no stretcher tonight 😂😂😂\n",
            " The disaster tweet is : This could have easily been a fatality... https://t.co/utJsjkXYRL\n",
            " The disaster tweet is : It's literally been two weeks into 2020 and we have already seen the Australian fires, volcano in Philippines, record breaki…\n",
            " The disaster tweet is : Driver of stolen tractor trailer killed when truck crashed into a car &amp; then another at Eglinton/Mavis in Mississauga. Other…\n",
            " The disaster tweet is : QLD Severe Thunderstorm Warning: Damaging Winds. Thargomindah, Mount Isa, Cloncurry, Cunnamulla, Quilpie, Windorah,… https://t.co/J88sl2kdF1\n",
            " The disaster tweet is : NEWS: say they're expecting it to be hours rather than days before a chemical incident in West Thurrock is resolved. Y…\n",
            " The disaster tweet is : Melbourne's air quality 'worst in the world' as bushfires continue to burn across Victoria https://t.co/rq3B4SQnz5\n",
            " The disaster tweet is : Nearly 12 hours after this fire began, crews are STILL at the scene hosing down buildings to keep neighbors out of har…\n",
            " The disaster tweet is : Isolated to scattered rain/thunderstorm over Punjab during 15th-17th; over Madhya Pradesh and Rajasthan during 15th… https://t.co/8YXmtEgJuh\n",
            " The disaster tweet is : Venice canals almost dry, two months after severe floods - https://t.co/5XXdyMnecU #GoogleAlerts\n",
            " The disaster tweet is : More than 23,000 people have been evacuated and clouds of ash have turned entire towns grey as Taal volcano continues to rumb…\n",
            " The disaster tweet is : Hi there, I'm very sorry to hear this, we are running a reduced service at the moment due to the freight train derail…\n"
          ]
        }
      ],
      "source": [
        "for i in range(0,len(y_pred)):\n",
        "  if y_pred[i] == 1:\n",
        "    print (\" The disaster tweet is : \"+tweets[i])\n",
        "    # try :\n",
        "    #   print (\" The disaster tweet is : \"+X_test[ind])\n",
        "    # except:\n",
        "    #   print(\" ingorned \")"
      ]
    },
    {
      "cell_type": "code",
      "execution_count": null,
      "metadata": {
        "colab": {
          "base_uri": "https://localhost:8080/"
        },
        "id": "A2WVIQgK1Y0S",
        "outputId": "04af7577-b741-45e2-dcf4-7e5efff45ccf"
      },
      "outputs": [
        {
          "data": {
            "text/plain": [
              "array([[381, 148],\n",
              "       [ 91, 437]])"
            ]
          },
          "execution_count": 26,
          "metadata": {},
          "output_type": "execute_result"
        }
      ],
      "source": [
        "matrix = confusion_matrix(y_test, y_predicted)\n",
        "matrix"
      ]
    },
    {
      "cell_type": "code",
      "execution_count": null,
      "metadata": {
        "colab": {
          "base_uri": "https://localhost:8080/"
        },
        "id": "NSCRe2Ro3cQ0",
        "outputId": "f08a6149-6779-4b2a-e2cb-e0e604519ef2"
      },
      "outputs": [
        {
          "name": "stdout",
          "output_type": "stream",
          "text": [
            "accuracy: 77.39%\n"
          ]
        }
      ],
      "source": [
        "\n",
        "# evaluate loaded model on test data\n",
        "model.compile(loss='binary_crossentropy', optimizer='rmsprop', metrics=['accuracy'])\n",
        "score = model.evaluate(X_test, y_test, verbose=0)\n",
        "print(\"%s: %.2f%%\" % (model.metrics_names[1], score[1]*100))"
      ]
    },
    {
      "cell_type": "code",
      "execution_count": null,
      "metadata": {
        "id": "qTeUoap-Mqpu"
      },
      "outputs": [],
      "source": []
    }
  ],
  "metadata": {
    "accelerator": "GPU",
    "colab": {
      "provenance": []
    },
    "gpuClass": "standard",
    "kernelspec": {
      "display_name": "disaster_Management-srpq3uTc",
      "language": "python",
      "name": "python3"
    },
    "language_info": {
      "name": "python",
      "version": "3.10.7 (tags/v3.10.7:6cc6b13, Sep  5 2022, 14:08:36) [MSC v.1933 64 bit (AMD64)]"
    },
    "vscode": {
      "interpreter": {
        "hash": "8ff846e856a5475ff1094a69cc3f6021185e1687c0847ff43cef4d6aaa3eeb7f"
      }
    }
  },
  "nbformat": 4,
  "nbformat_minor": 0
}
